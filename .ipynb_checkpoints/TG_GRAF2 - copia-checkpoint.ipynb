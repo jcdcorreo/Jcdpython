{
 "cells": [
  {
   "cell_type": "code",
   "execution_count": 1,
   "id": "e11dd673",
   "metadata": {},
   "outputs": [],
   "source": [
    "%matplotlib inline\n",
    "import pandas as pd\n",
    "import numpy as np\n",
    "import matplotlib.pyplot as plt\n",
    "import seaborn as sns\n",
    "import plotly.express as px\n",
    "import plotly.graph_objects as go"
   ]
  },
  {
   "cell_type": "code",
   "execution_count": 2,
   "id": "b9b00e6e",
   "metadata": {},
   "outputs": [],
   "source": [
    "df = pd.read_csv('tb_medida_estaciones.csv')"
   ]
  },
  {
   "cell_type": "code",
   "execution_count": 3,
   "id": "3684039e",
   "metadata": {},
   "outputs": [
    {
     "data": {
      "text/html": [
       "<div>\n",
       "<style scoped>\n",
       "    .dataframe tbody tr th:only-of-type {\n",
       "        vertical-align: middle;\n",
       "    }\n",
       "\n",
       "    .dataframe tbody tr th {\n",
       "        vertical-align: top;\n",
       "    }\n",
       "\n",
       "    .dataframe thead th {\n",
       "        text-align: right;\n",
       "    }\n",
       "</style>\n",
       "<table border=\"1\" class=\"dataframe\">\n",
       "  <thead>\n",
       "    <tr style=\"text-align: right;\">\n",
       "      <th></th>\n",
       "      <th>FECHA_CORTE</th>\n",
       "      <th>N_SEC</th>\n",
       "      <th>UBIGEO</th>\n",
       "      <th>REG_NAT</th>\n",
       "      <th>DEPARTAMENTO</th>\n",
       "      <th>PROVINCIA</th>\n",
       "      <th>DISTRITO</th>\n",
       "      <th>POB_TOTAL</th>\n",
       "      <th>POB_URBANA</th>\n",
       "      <th>POB_RURAL</th>\n",
       "      <th>QRESIDUOS_DOM</th>\n",
       "      <th>PERIODO</th>\n",
       "    </tr>\n",
       "  </thead>\n",
       "  <tbody>\n",
       "    <tr>\n",
       "      <th>0</th>\n",
       "      <td>9/01/2023</td>\n",
       "      <td>1</td>\n",
       "      <td>10101</td>\n",
       "      <td>SELVA</td>\n",
       "      <td>AMAZONAS</td>\n",
       "      <td>CHACHAPOYAS</td>\n",
       "      <td>CHACHAPOYAS</td>\n",
       "      <td>28423</td>\n",
       "      <td>27548</td>\n",
       "      <td>875</td>\n",
       "      <td>4857,50</td>\n",
       "      <td>2014</td>\n",
       "    </tr>\n",
       "    <tr>\n",
       "      <th>1</th>\n",
       "      <td>9/01/2023</td>\n",
       "      <td>2</td>\n",
       "      <td>10102</td>\n",
       "      <td>SELVA</td>\n",
       "      <td>AMAZONAS</td>\n",
       "      <td>CHACHAPOYAS</td>\n",
       "      <td>ASUNCION</td>\n",
       "      <td>291</td>\n",
       "      <td>151</td>\n",
       "      <td>140</td>\n",
       "      <td>33,56</td>\n",
       "      <td>2014</td>\n",
       "    </tr>\n",
       "    <tr>\n",
       "      <th>2</th>\n",
       "      <td>9/01/2023</td>\n",
       "      <td>3</td>\n",
       "      <td>10103</td>\n",
       "      <td>SIERRA</td>\n",
       "      <td>AMAZONAS</td>\n",
       "      <td>CHACHAPOYAS</td>\n",
       "      <td>BALSAS</td>\n",
       "      <td>1615</td>\n",
       "      <td>299</td>\n",
       "      <td>1316</td>\n",
       "      <td>48,96</td>\n",
       "      <td>2014</td>\n",
       "    </tr>\n",
       "    <tr>\n",
       "      <th>3</th>\n",
       "      <td>9/01/2023</td>\n",
       "      <td>4</td>\n",
       "      <td>10104</td>\n",
       "      <td>SIERRA</td>\n",
       "      <td>AMAZONAS</td>\n",
       "      <td>CHACHAPOYAS</td>\n",
       "      <td>CHETO</td>\n",
       "      <td>597</td>\n",
       "      <td>388</td>\n",
       "      <td>209</td>\n",
       "      <td>63,59</td>\n",
       "      <td>2014</td>\n",
       "    </tr>\n",
       "    <tr>\n",
       "      <th>4</th>\n",
       "      <td>9/01/2023</td>\n",
       "      <td>5</td>\n",
       "      <td>10105</td>\n",
       "      <td>SIERRA</td>\n",
       "      <td>AMAZONAS</td>\n",
       "      <td>CHACHAPOYAS</td>\n",
       "      <td>CHILIQUIN</td>\n",
       "      <td>737</td>\n",
       "      <td>197</td>\n",
       "      <td>540</td>\n",
       "      <td>32,38</td>\n",
       "      <td>2014</td>\n",
       "    </tr>\n",
       "    <tr>\n",
       "      <th>5</th>\n",
       "      <td>9/01/2023</td>\n",
       "      <td>6</td>\n",
       "      <td>10106</td>\n",
       "      <td>SIERRA</td>\n",
       "      <td>AMAZONAS</td>\n",
       "      <td>CHACHAPOYAS</td>\n",
       "      <td>CHUQUIBAMBA</td>\n",
       "      <td>2096</td>\n",
       "      <td>630</td>\n",
       "      <td>1466</td>\n",
       "      <td>103,25</td>\n",
       "      <td>2014</td>\n",
       "    </tr>\n",
       "    <tr>\n",
       "      <th>6</th>\n",
       "      <td>9/01/2023</td>\n",
       "      <td>7</td>\n",
       "      <td>10107</td>\n",
       "      <td>SELVA</td>\n",
       "      <td>AMAZONAS</td>\n",
       "      <td>CHACHAPOYAS</td>\n",
       "      <td>GRANADA</td>\n",
       "      <td>395</td>\n",
       "      <td>133</td>\n",
       "      <td>262</td>\n",
       "      <td>29,46</td>\n",
       "      <td>2014</td>\n",
       "    </tr>\n",
       "    <tr>\n",
       "      <th>7</th>\n",
       "      <td>9/01/2023</td>\n",
       "      <td>8</td>\n",
       "      <td>10108</td>\n",
       "      <td>SIERRA</td>\n",
       "      <td>AMAZONAS</td>\n",
       "      <td>CHACHAPOYAS</td>\n",
       "      <td>HUANCAS</td>\n",
       "      <td>1240</td>\n",
       "      <td>1231</td>\n",
       "      <td>9</td>\n",
       "      <td>201,84</td>\n",
       "      <td>2014</td>\n",
       "    </tr>\n",
       "    <tr>\n",
       "      <th>8</th>\n",
       "      <td>9/01/2023</td>\n",
       "      <td>9</td>\n",
       "      <td>10109</td>\n",
       "      <td>SELVA</td>\n",
       "      <td>AMAZONAS</td>\n",
       "      <td>CHACHAPOYAS</td>\n",
       "      <td>LA JALCA</td>\n",
       "      <td>5551</td>\n",
       "      <td>2442</td>\n",
       "      <td>3109</td>\n",
       "      <td>542,65</td>\n",
       "      <td>2014</td>\n",
       "    </tr>\n",
       "    <tr>\n",
       "      <th>9</th>\n",
       "      <td>9/01/2023</td>\n",
       "      <td>10</td>\n",
       "      <td>10110</td>\n",
       "      <td>SELVA</td>\n",
       "      <td>AMAZONAS</td>\n",
       "      <td>CHACHAPOYAS</td>\n",
       "      <td>LEIMEBAMBA</td>\n",
       "      <td>4200</td>\n",
       "      <td>1991</td>\n",
       "      <td>2209</td>\n",
       "      <td>442,34</td>\n",
       "      <td>2014</td>\n",
       "    </tr>\n",
       "  </tbody>\n",
       "</table>\n",
       "</div>"
      ],
      "text/plain": [
       "  FECHA_CORTE  N_SEC  UBIGEO REG_NAT DEPARTAMENTO    PROVINCIA     DISTRITO  \\\n",
       "0   9/01/2023      1   10101   SELVA     AMAZONAS  CHACHAPOYAS  CHACHAPOYAS   \n",
       "1   9/01/2023      2   10102   SELVA     AMAZONAS  CHACHAPOYAS     ASUNCION   \n",
       "2   9/01/2023      3   10103  SIERRA     AMAZONAS  CHACHAPOYAS       BALSAS   \n",
       "3   9/01/2023      4   10104  SIERRA     AMAZONAS  CHACHAPOYAS        CHETO   \n",
       "4   9/01/2023      5   10105  SIERRA     AMAZONAS  CHACHAPOYAS    CHILIQUIN   \n",
       "5   9/01/2023      6   10106  SIERRA     AMAZONAS  CHACHAPOYAS  CHUQUIBAMBA   \n",
       "6   9/01/2023      7   10107   SELVA     AMAZONAS  CHACHAPOYAS      GRANADA   \n",
       "7   9/01/2023      8   10108  SIERRA     AMAZONAS  CHACHAPOYAS      HUANCAS   \n",
       "8   9/01/2023      9   10109   SELVA     AMAZONAS  CHACHAPOYAS     LA JALCA   \n",
       "9   9/01/2023     10   10110   SELVA     AMAZONAS  CHACHAPOYAS   LEIMEBAMBA   \n",
       "\n",
       "   POB_TOTAL  POB_URBANA  POB_RURAL QRESIDUOS_DOM  PERIODO  \n",
       "0      28423       27548        875       4857,50     2014  \n",
       "1        291         151        140         33,56     2014  \n",
       "2       1615         299       1316         48,96     2014  \n",
       "3        597         388        209         63,59     2014  \n",
       "4        737         197        540         32,38     2014  \n",
       "5       2096         630       1466        103,25     2014  \n",
       "6        395         133        262         29,46     2014  \n",
       "7       1240        1231          9        201,84     2014  \n",
       "8       5551        2442       3109        542,65     2014  \n",
       "9       4200        1991       2209        442,34     2014  "
      ]
     },
     "execution_count": 3,
     "metadata": {},
     "output_type": "execute_result"
    }
   ],
   "source": [
    "df.head(10) "
   ]
  },
  {
   "cell_type": "code",
   "execution_count": 4,
   "id": "0f373b7f",
   "metadata": {},
   "outputs": [],
   "source": [
    "# Convertir la columna \"QRESIDUOS_DOM\" a tipo numérico\n",
    "df['QRESIDUOS_DOM'] = df['QRESIDUOS_DOM'].replace(',', '.', regex=True).astype(float)\n"
   ]
  },
  {
   "cell_type": "code",
   "execution_count": 5,
   "id": "0016c5d2",
   "metadata": {},
   "outputs": [
    {
     "data": {
      "text/html": [
       "<div>\n",
       "<style scoped>\n",
       "    .dataframe tbody tr th:only-of-type {\n",
       "        vertical-align: middle;\n",
       "    }\n",
       "\n",
       "    .dataframe tbody tr th {\n",
       "        vertical-align: top;\n",
       "    }\n",
       "\n",
       "    .dataframe thead th {\n",
       "        text-align: right;\n",
       "    }\n",
       "</style>\n",
       "<table border=\"1\" class=\"dataframe\">\n",
       "  <thead>\n",
       "    <tr style=\"text-align: right;\">\n",
       "      <th></th>\n",
       "      <th>DEPARTAMENTO</th>\n",
       "      <th>PERIODO</th>\n",
       "      <th>QRESIDUOS_DOM</th>\n",
       "    </tr>\n",
       "  </thead>\n",
       "  <tbody>\n",
       "    <tr>\n",
       "      <th>0</th>\n",
       "      <td>AMAZONAS</td>\n",
       "      <td>2014</td>\n",
       "      <td>4857.50</td>\n",
       "    </tr>\n",
       "    <tr>\n",
       "      <th>1</th>\n",
       "      <td>AMAZONAS</td>\n",
       "      <td>2014</td>\n",
       "      <td>33.56</td>\n",
       "    </tr>\n",
       "    <tr>\n",
       "      <th>2</th>\n",
       "      <td>AMAZONAS</td>\n",
       "      <td>2014</td>\n",
       "      <td>48.96</td>\n",
       "    </tr>\n",
       "    <tr>\n",
       "      <th>3</th>\n",
       "      <td>AMAZONAS</td>\n",
       "      <td>2014</td>\n",
       "      <td>63.59</td>\n",
       "    </tr>\n",
       "    <tr>\n",
       "      <th>4</th>\n",
       "      <td>AMAZONAS</td>\n",
       "      <td>2014</td>\n",
       "      <td>32.38</td>\n",
       "    </tr>\n",
       "  </tbody>\n",
       "</table>\n",
       "</div>"
      ],
      "text/plain": [
       "  DEPARTAMENTO  PERIODO  QRESIDUOS_DOM\n",
       "0     AMAZONAS     2014        4857.50\n",
       "1     AMAZONAS     2014          33.56\n",
       "2     AMAZONAS     2014          48.96\n",
       "3     AMAZONAS     2014          63.59\n",
       "4     AMAZONAS     2014          32.38"
      ]
     },
     "execution_count": 5,
     "metadata": {},
     "output_type": "execute_result"
    }
   ],
   "source": [
    "# Seleccionar las columnas que nos interesan\n",
    "df1 = df[['DEPARTAMENTO', 'PERIODO', 'QRESIDUOS_DOM']]\n",
    "df1.head() \n"
   ]
  },
  {
   "cell_type": "code",
   "execution_count": 6,
   "id": "26e8dd0b",
   "metadata": {},
   "outputs": [],
   "source": [
    "# Filtrar datos para omitir el valor \"LIMA\"\n",
    "df1 = df1[df1['DEPARTAMENTO'] != 'LIMA']"
   ]
  },
  {
   "cell_type": "code",
   "execution_count": 7,
   "id": "9debe605",
   "metadata": {},
   "outputs": [
    {
     "name": "stdout",
     "output_type": "stream",
     "text": [
      "    DEPARTAMENTO  PERIODO  QRESIDUOS_DOM  KQRESIDUOS_DOM\n",
      "0       AMAZONAS     2014       36687.48              37\n",
      "1       AMAZONAS     2015       35408.14              35\n",
      "2       AMAZONAS     2016       35698.25              36\n",
      "3       AMAZONAS     2017       36003.39              36\n",
      "4       AMAZONAS     2018       38118.39              38\n",
      "..           ...      ...            ...             ...\n",
      "187      UCAYALI     2017       91231.51              91\n",
      "188      UCAYALI     2018      101089.44             101\n",
      "189      UCAYALI     2019      101925.17             102\n",
      "190      UCAYALI     2020      104509.04             105\n",
      "191      UCAYALI     2021      108558.34             109\n",
      "\n",
      "[192 rows x 4 columns]\n"
     ]
    }
   ],
   "source": [
    "# Agrupar por 'DEPARTAMENTO' y 'PERIODO', y sumar las columnas especificadas\n",
    "df2 = df1.groupby(['DEPARTAMENTO', 'PERIODO']).sum().reset_index()\n",
    "# Calcula las nuevas columnas en K miles de toneladas redondeada \n",
    "df2['KQRESIDUOS_DOM'] = (df2['QRESIDUOS_DOM'] / 1000).round().astype(int)\n",
    "print(df2)"
   ]
  },
  {
   "cell_type": "code",
   "execution_count": 8,
   "id": "56f5bb26",
   "metadata": {},
   "outputs": [],
   "source": [
    "# Ordenar DataFrame basado en el valor acumulado en orden descendente\n",
    "df3 = df2.sort_values(by=[\"DEPARTAMENTO\", \"PERIODO\"])  # Ordenar por departamento y periodo\n",
    "df3[\"KQRESIDUOS_DOM_ACUM\"] = df3.groupby(\"DEPARTAMENTO\")[\"KQRESIDUOS_DOM\"].cumsum()\n"
   ]
  },
  {
   "cell_type": "code",
   "execution_count": 15,
   "id": "8d52ccae",
   "metadata": {},
   "outputs": [
    {
     "data": {
      "application/vnd.plotly.v1+json": {
       "config": {
        "plotlyServerURL": "https://plot.ly"
       },
       "data": [
        {
         "alignmentgroup": "True",
         "hovertemplate": "PERIODO=2014<br>=%{x}<br>DEPARTAMENTO=%{y}<extra></extra>",
         "legendgroup": "",
         "marker": {
          "color": "blue",
          "pattern": {
           "shape": ""
          }
         },
         "name": "",
         "offsetgroup": "",
         "orientation": "h",
         "showlegend": false,
         "textposition": "outside",
         "texttemplate": "%{x:,.0f}KTM",
         "type": "bar",
         "x": [
          37,
          135,
          36,
          200,
          69,
          102,
          240,
          172,
          27,
          66,
          127,
          153,
          263,
          185,
          153,
          15,
          23,
          30,
          253,
          147,
          114,
          53,
          34,
          85
         ],
         "xaxis": "x",
         "y": [
          "AMAZONAS",
          "ANCASH",
          "APURIMAC",
          "AREQUIPA",
          "AYACUCHO",
          "CAJAMARCA",
          "CALLAO",
          "CUSCO",
          "HUANCAVELICA",
          "HUANUCO",
          "ICA",
          "JUNIN",
          "LA LIBERTAD",
          "LAMBAYEQUE",
          "LORETO",
          "MADRE DE DIOS",
          "MOQUEGUA",
          "PASCO",
          "PIURA",
          "PUNO",
          "SAN MARTIN",
          "TACNA",
          "TUMBES",
          "UCAYALI"
         ],
         "yaxis": "y"
        }
       ],
       "frames": [
        {
         "data": [
          {
           "alignmentgroup": "True",
           "hovertemplate": "PERIODO=2014<br>=%{x}<br>DEPARTAMENTO=%{y}<extra></extra>",
           "legendgroup": "",
           "marker": {
            "color": "#636efa",
            "pattern": {
             "shape": ""
            }
           },
           "name": "",
           "offsetgroup": "",
           "orientation": "h",
           "showlegend": false,
           "textposition": "auto",
           "type": "bar",
           "x": [
            37,
            135,
            36,
            200,
            69,
            102,
            240,
            172,
            27,
            66,
            127,
            153,
            263,
            185,
            153,
            15,
            23,
            30,
            253,
            147,
            114,
            53,
            34,
            85
           ],
           "xaxis": "x",
           "y": [
            "AMAZONAS",
            "ANCASH",
            "APURIMAC",
            "AREQUIPA",
            "AYACUCHO",
            "CAJAMARCA",
            "CALLAO",
            "CUSCO",
            "HUANCAVELICA",
            "HUANUCO",
            "ICA",
            "JUNIN",
            "LA LIBERTAD",
            "LAMBAYEQUE",
            "LORETO",
            "MADRE DE DIOS",
            "MOQUEGUA",
            "PASCO",
            "PIURA",
            "PUNO",
            "SAN MARTIN",
            "TACNA",
            "TUMBES",
            "UCAYALI"
           ],
           "yaxis": "y"
          }
         ],
         "name": "2014"
        },
        {
         "data": [
          {
           "alignmentgroup": "True",
           "hovertemplate": "PERIODO=2015<br>=%{x}<br>DEPARTAMENTO=%{y}<extra></extra>",
           "legendgroup": "",
           "marker": {
            "color": "#636efa",
            "pattern": {
             "shape": ""
            }
           },
           "name": "",
           "offsetgroup": "",
           "orientation": "h",
           "showlegend": false,
           "textposition": "auto",
           "type": "bar",
           "x": [
            72,
            289,
            72,
            404,
            151,
            206,
            481,
            322,
            54,
            127,
            254,
            321,
            540,
            395,
            303,
            32,
            46,
            55,
            536,
            274,
            219,
            106,
            71,
            173
           ],
           "xaxis": "x",
           "y": [
            "AMAZONAS",
            "ANCASH",
            "APURIMAC",
            "AREQUIPA",
            "AYACUCHO",
            "CAJAMARCA",
            "CALLAO",
            "CUSCO",
            "HUANCAVELICA",
            "HUANUCO",
            "ICA",
            "JUNIN",
            "LA LIBERTAD",
            "LAMBAYEQUE",
            "LORETO",
            "MADRE DE DIOS",
            "MOQUEGUA",
            "PASCO",
            "PIURA",
            "PUNO",
            "SAN MARTIN",
            "TACNA",
            "TUMBES",
            "UCAYALI"
           ],
           "yaxis": "y"
          }
         ],
         "name": "2015"
        },
        {
         "data": [
          {
           "alignmentgroup": "True",
           "hovertemplate": "PERIODO=2016<br>=%{x}<br>DEPARTAMENTO=%{y}<extra></extra>",
           "legendgroup": "",
           "marker": {
            "color": "#636efa",
            "pattern": {
             "shape": ""
            }
           },
           "name": "",
           "offsetgroup": "",
           "orientation": "h",
           "showlegend": false,
           "textposition": "auto",
           "type": "bar",
           "x": [
            108,
            438,
            112,
            613,
            225,
            307,
            705,
            475,
            79,
            187,
            385,
            492,
            806,
            603,
            453,
            51,
            71,
            81,
            811,
            389,
            329,
            157,
            107,
            264
           ],
           "xaxis": "x",
           "y": [
            "AMAZONAS",
            "ANCASH",
            "APURIMAC",
            "AREQUIPA",
            "AYACUCHO",
            "CAJAMARCA",
            "CALLAO",
            "CUSCO",
            "HUANCAVELICA",
            "HUANUCO",
            "ICA",
            "JUNIN",
            "LA LIBERTAD",
            "LAMBAYEQUE",
            "LORETO",
            "MADRE DE DIOS",
            "MOQUEGUA",
            "PASCO",
            "PIURA",
            "PUNO",
            "SAN MARTIN",
            "TACNA",
            "TUMBES",
            "UCAYALI"
           ],
           "yaxis": "y"
          }
         ],
         "name": "2016"
        },
        {
         "data": [
          {
           "alignmentgroup": "True",
           "hovertemplate": "PERIODO=2017<br>=%{x}<br>DEPARTAMENTO=%{y}<extra></extra>",
           "legendgroup": "",
           "marker": {
            "color": "#636efa",
            "pattern": {
             "shape": ""
            }
           },
           "name": "",
           "offsetgroup": "",
           "orientation": "h",
           "showlegend": false,
           "textposition": "auto",
           "type": "bar",
           "x": [
            144,
            584,
            152,
            824,
            307,
            407,
            933,
            632,
            104,
            247,
            517,
            670,
            1078,
            817,
            596,
            71,
            96,
            109,
            1090,
            512,
            439,
            209,
            144,
            355
           ],
           "xaxis": "x",
           "y": [
            "AMAZONAS",
            "ANCASH",
            "APURIMAC",
            "AREQUIPA",
            "AYACUCHO",
            "CAJAMARCA",
            "CALLAO",
            "CUSCO",
            "HUANCAVELICA",
            "HUANUCO",
            "ICA",
            "JUNIN",
            "LA LIBERTAD",
            "LAMBAYEQUE",
            "LORETO",
            "MADRE DE DIOS",
            "MOQUEGUA",
            "PASCO",
            "PIURA",
            "PUNO",
            "SAN MARTIN",
            "TACNA",
            "TUMBES",
            "UCAYALI"
           ],
           "yaxis": "y"
          }
         ],
         "name": "2017"
        },
        {
         "data": [
          {
           "alignmentgroup": "True",
           "hovertemplate": "PERIODO=2018<br>=%{x}<br>DEPARTAMENTO=%{y}<extra></extra>",
           "legendgroup": "",
           "marker": {
            "color": "#636efa",
            "pattern": {
             "shape": ""
            }
           },
           "name": "",
           "offsetgroup": "",
           "orientation": "h",
           "showlegend": false,
           "textposition": "auto",
           "type": "bar",
           "x": [
            182,
            739,
            199,
            1076,
            395,
            513,
            1165,
            792,
            131,
            322,
            673,
            862,
            1377,
            1021,
            743,
            98,
            123,
            138,
            1399,
            634,
            566,
            260,
            181,
            456
           ],
           "xaxis": "x",
           "y": [
            "AMAZONAS",
            "ANCASH",
            "APURIMAC",
            "AREQUIPA",
            "AYACUCHO",
            "CAJAMARCA",
            "CALLAO",
            "CUSCO",
            "HUANCAVELICA",
            "HUANUCO",
            "ICA",
            "JUNIN",
            "LA LIBERTAD",
            "LAMBAYEQUE",
            "LORETO",
            "MADRE DE DIOS",
            "MOQUEGUA",
            "PASCO",
            "PIURA",
            "PUNO",
            "SAN MARTIN",
            "TACNA",
            "TUMBES",
            "UCAYALI"
           ],
           "yaxis": "y"
          }
         ],
         "name": "2018"
        },
        {
         "data": [
          {
           "alignmentgroup": "True",
           "hovertemplate": "PERIODO=2019<br>=%{x}<br>DEPARTAMENTO=%{y}<extra></extra>",
           "legendgroup": "",
           "marker": {
            "color": "#636efa",
            "pattern": {
             "shape": ""
            }
           },
           "name": "",
           "offsetgroup": "",
           "orientation": "h",
           "showlegend": false,
           "textposition": "auto",
           "type": "bar",
           "x": [
            222,
            907,
            242,
            1308,
            482,
            615,
            1387,
            954,
            156,
            401,
            842,
            1052,
            1682,
            1250,
            910,
            126,
            152,
            164,
            1700,
            770,
            702,
            313,
            225,
            558
           ],
           "xaxis": "x",
           "y": [
            "AMAZONAS",
            "ANCASH",
            "APURIMAC",
            "AREQUIPA",
            "AYACUCHO",
            "CAJAMARCA",
            "CALLAO",
            "CUSCO",
            "HUANCAVELICA",
            "HUANUCO",
            "ICA",
            "JUNIN",
            "LA LIBERTAD",
            "LAMBAYEQUE",
            "LORETO",
            "MADRE DE DIOS",
            "MOQUEGUA",
            "PASCO",
            "PIURA",
            "PUNO",
            "SAN MARTIN",
            "TACNA",
            "TUMBES",
            "UCAYALI"
           ],
           "yaxis": "y"
          }
         ],
         "name": "2019"
        },
        {
         "data": [
          {
           "alignmentgroup": "True",
           "hovertemplate": "PERIODO=2020<br>=%{x}<br>DEPARTAMENTO=%{y}<extra></extra>",
           "legendgroup": "",
           "marker": {
            "color": "#636efa",
            "pattern": {
             "shape": ""
            }
           },
           "name": "",
           "offsetgroup": "",
           "orientation": "h",
           "showlegend": false,
           "textposition": "auto",
           "type": "bar",
           "x": [
            262,
            1077,
            284,
            1544,
            570,
            716,
            1614,
            1118,
            181,
            481,
            1013,
            1242,
            1992,
            1481,
            1078,
            154,
            182,
            191,
            2009,
            906,
            840,
            367,
            270,
            663
           ],
           "xaxis": "x",
           "y": [
            "AMAZONAS",
            "ANCASH",
            "APURIMAC",
            "AREQUIPA",
            "AYACUCHO",
            "CAJAMARCA",
            "CALLAO",
            "CUSCO",
            "HUANCAVELICA",
            "HUANUCO",
            "ICA",
            "JUNIN",
            "LA LIBERTAD",
            "LAMBAYEQUE",
            "LORETO",
            "MADRE DE DIOS",
            "MOQUEGUA",
            "PASCO",
            "PIURA",
            "PUNO",
            "SAN MARTIN",
            "TACNA",
            "TUMBES",
            "UCAYALI"
           ],
           "yaxis": "y"
          }
         ],
         "name": "2020"
        },
        {
         "data": [
          {
           "alignmentgroup": "True",
           "hovertemplate": "PERIODO=2021<br>=%{x}<br>DEPARTAMENTO=%{y}<extra></extra>",
           "legendgroup": "",
           "marker": {
            "color": "#636efa",
            "pattern": {
             "shape": ""
            }
           },
           "name": "",
           "offsetgroup": "",
           "orientation": "h",
           "showlegend": false,
           "textposition": "auto",
           "type": "bar",
           "x": [
            297,
            1246,
            328,
            1793,
            658,
            826,
            1889,
            1283,
            210,
            557,
            1187,
            1439,
            2310,
            1708,
            1244,
            185,
            217,
            217,
            2324,
            1060,
            984,
            424,
            318,
            772
           ],
           "xaxis": "x",
           "y": [
            "AMAZONAS",
            "ANCASH",
            "APURIMAC",
            "AREQUIPA",
            "AYACUCHO",
            "CAJAMARCA",
            "CALLAO",
            "CUSCO",
            "HUANCAVELICA",
            "HUANUCO",
            "ICA",
            "JUNIN",
            "LA LIBERTAD",
            "LAMBAYEQUE",
            "LORETO",
            "MADRE DE DIOS",
            "MOQUEGUA",
            "PASCO",
            "PIURA",
            "PUNO",
            "SAN MARTIN",
            "TACNA",
            "TUMBES",
            "UCAYALI"
           ],
           "yaxis": "y"
          }
         ],
         "name": "2021"
        }
       ],
       "layout": {
        "barmode": "relative",
        "height": 900,
        "legend": {
         "tracegroupgap": 0
        },
        "margin": {
         "t": 60
        },
        "showlegend": false,
        "sliders": [
         {
          "active": 0,
          "currentvalue": {
           "prefix": "PERIODO="
          },
          "len": 0.9,
          "pad": {
           "b": 10,
           "t": 60
          },
          "steps": [
           {
            "args": [
             [
              "2014"
             ],
             {
              "frame": {
               "duration": 0,
               "redraw": true
              },
              "fromcurrent": true,
              "mode": "immediate",
              "transition": {
               "duration": 0,
               "easing": "linear"
              }
             }
            ],
            "label": "2014",
            "method": "animate"
           },
           {
            "args": [
             [
              "2015"
             ],
             {
              "frame": {
               "duration": 0,
               "redraw": true
              },
              "fromcurrent": true,
              "mode": "immediate",
              "transition": {
               "duration": 0,
               "easing": "linear"
              }
             }
            ],
            "label": "2015",
            "method": "animate"
           },
           {
            "args": [
             [
              "2016"
             ],
             {
              "frame": {
               "duration": 0,
               "redraw": true
              },
              "fromcurrent": true,
              "mode": "immediate",
              "transition": {
               "duration": 0,
               "easing": "linear"
              }
             }
            ],
            "label": "2016",
            "method": "animate"
           },
           {
            "args": [
             [
              "2017"
             ],
             {
              "frame": {
               "duration": 0,
               "redraw": true
              },
              "fromcurrent": true,
              "mode": "immediate",
              "transition": {
               "duration": 0,
               "easing": "linear"
              }
             }
            ],
            "label": "2017",
            "method": "animate"
           },
           {
            "args": [
             [
              "2018"
             ],
             {
              "frame": {
               "duration": 0,
               "redraw": true
              },
              "fromcurrent": true,
              "mode": "immediate",
              "transition": {
               "duration": 0,
               "easing": "linear"
              }
             }
            ],
            "label": "2018",
            "method": "animate"
           },
           {
            "args": [
             [
              "2019"
             ],
             {
              "frame": {
               "duration": 0,
               "redraw": true
              },
              "fromcurrent": true,
              "mode": "immediate",
              "transition": {
               "duration": 0,
               "easing": "linear"
              }
             }
            ],
            "label": "2019",
            "method": "animate"
           },
           {
            "args": [
             [
              "2020"
             ],
             {
              "frame": {
               "duration": 0,
               "redraw": true
              },
              "fromcurrent": true,
              "mode": "immediate",
              "transition": {
               "duration": 0,
               "easing": "linear"
              }
             }
            ],
            "label": "2020",
            "method": "animate"
           },
           {
            "args": [
             [
              "2021"
             ],
             {
              "frame": {
               "duration": 0,
               "redraw": true
              },
              "fromcurrent": true,
              "mode": "immediate",
              "transition": {
               "duration": 0,
               "easing": "linear"
              }
             }
            ],
            "label": "2021",
            "method": "animate"
           }
          ],
          "x": 0.1,
          "xanchor": "left",
          "y": 0,
          "yanchor": "top"
         }
        ],
        "template": {
         "data": {
          "bar": [
           {
            "error_x": {
             "color": "#2a3f5f"
            },
            "error_y": {
             "color": "#2a3f5f"
            },
            "marker": {
             "line": {
              "color": "#E5ECF6",
              "width": 0.5
             },
             "pattern": {
              "fillmode": "overlay",
              "size": 10,
              "solidity": 0.2
             }
            },
            "type": "bar"
           }
          ],
          "barpolar": [
           {
            "marker": {
             "line": {
              "color": "#E5ECF6",
              "width": 0.5
             },
             "pattern": {
              "fillmode": "overlay",
              "size": 10,
              "solidity": 0.2
             }
            },
            "type": "barpolar"
           }
          ],
          "carpet": [
           {
            "aaxis": {
             "endlinecolor": "#2a3f5f",
             "gridcolor": "white",
             "linecolor": "white",
             "minorgridcolor": "white",
             "startlinecolor": "#2a3f5f"
            },
            "baxis": {
             "endlinecolor": "#2a3f5f",
             "gridcolor": "white",
             "linecolor": "white",
             "minorgridcolor": "white",
             "startlinecolor": "#2a3f5f"
            },
            "type": "carpet"
           }
          ],
          "choropleth": [
           {
            "colorbar": {
             "outlinewidth": 0,
             "ticks": ""
            },
            "type": "choropleth"
           }
          ],
          "contour": [
           {
            "colorbar": {
             "outlinewidth": 0,
             "ticks": ""
            },
            "colorscale": [
             [
              0,
              "#0d0887"
             ],
             [
              0.1111111111111111,
              "#46039f"
             ],
             [
              0.2222222222222222,
              "#7201a8"
             ],
             [
              0.3333333333333333,
              "#9c179e"
             ],
             [
              0.4444444444444444,
              "#bd3786"
             ],
             [
              0.5555555555555556,
              "#d8576b"
             ],
             [
              0.6666666666666666,
              "#ed7953"
             ],
             [
              0.7777777777777778,
              "#fb9f3a"
             ],
             [
              0.8888888888888888,
              "#fdca26"
             ],
             [
              1,
              "#f0f921"
             ]
            ],
            "type": "contour"
           }
          ],
          "contourcarpet": [
           {
            "colorbar": {
             "outlinewidth": 0,
             "ticks": ""
            },
            "type": "contourcarpet"
           }
          ],
          "heatmap": [
           {
            "colorbar": {
             "outlinewidth": 0,
             "ticks": ""
            },
            "colorscale": [
             [
              0,
              "#0d0887"
             ],
             [
              0.1111111111111111,
              "#46039f"
             ],
             [
              0.2222222222222222,
              "#7201a8"
             ],
             [
              0.3333333333333333,
              "#9c179e"
             ],
             [
              0.4444444444444444,
              "#bd3786"
             ],
             [
              0.5555555555555556,
              "#d8576b"
             ],
             [
              0.6666666666666666,
              "#ed7953"
             ],
             [
              0.7777777777777778,
              "#fb9f3a"
             ],
             [
              0.8888888888888888,
              "#fdca26"
             ],
             [
              1,
              "#f0f921"
             ]
            ],
            "type": "heatmap"
           }
          ],
          "heatmapgl": [
           {
            "colorbar": {
             "outlinewidth": 0,
             "ticks": ""
            },
            "colorscale": [
             [
              0,
              "#0d0887"
             ],
             [
              0.1111111111111111,
              "#46039f"
             ],
             [
              0.2222222222222222,
              "#7201a8"
             ],
             [
              0.3333333333333333,
              "#9c179e"
             ],
             [
              0.4444444444444444,
              "#bd3786"
             ],
             [
              0.5555555555555556,
              "#d8576b"
             ],
             [
              0.6666666666666666,
              "#ed7953"
             ],
             [
              0.7777777777777778,
              "#fb9f3a"
             ],
             [
              0.8888888888888888,
              "#fdca26"
             ],
             [
              1,
              "#f0f921"
             ]
            ],
            "type": "heatmapgl"
           }
          ],
          "histogram": [
           {
            "marker": {
             "pattern": {
              "fillmode": "overlay",
              "size": 10,
              "solidity": 0.2
             }
            },
            "type": "histogram"
           }
          ],
          "histogram2d": [
           {
            "colorbar": {
             "outlinewidth": 0,
             "ticks": ""
            },
            "colorscale": [
             [
              0,
              "#0d0887"
             ],
             [
              0.1111111111111111,
              "#46039f"
             ],
             [
              0.2222222222222222,
              "#7201a8"
             ],
             [
              0.3333333333333333,
              "#9c179e"
             ],
             [
              0.4444444444444444,
              "#bd3786"
             ],
             [
              0.5555555555555556,
              "#d8576b"
             ],
             [
              0.6666666666666666,
              "#ed7953"
             ],
             [
              0.7777777777777778,
              "#fb9f3a"
             ],
             [
              0.8888888888888888,
              "#fdca26"
             ],
             [
              1,
              "#f0f921"
             ]
            ],
            "type": "histogram2d"
           }
          ],
          "histogram2dcontour": [
           {
            "colorbar": {
             "outlinewidth": 0,
             "ticks": ""
            },
            "colorscale": [
             [
              0,
              "#0d0887"
             ],
             [
              0.1111111111111111,
              "#46039f"
             ],
             [
              0.2222222222222222,
              "#7201a8"
             ],
             [
              0.3333333333333333,
              "#9c179e"
             ],
             [
              0.4444444444444444,
              "#bd3786"
             ],
             [
              0.5555555555555556,
              "#d8576b"
             ],
             [
              0.6666666666666666,
              "#ed7953"
             ],
             [
              0.7777777777777778,
              "#fb9f3a"
             ],
             [
              0.8888888888888888,
              "#fdca26"
             ],
             [
              1,
              "#f0f921"
             ]
            ],
            "type": "histogram2dcontour"
           }
          ],
          "mesh3d": [
           {
            "colorbar": {
             "outlinewidth": 0,
             "ticks": ""
            },
            "type": "mesh3d"
           }
          ],
          "parcoords": [
           {
            "line": {
             "colorbar": {
              "outlinewidth": 0,
              "ticks": ""
             }
            },
            "type": "parcoords"
           }
          ],
          "pie": [
           {
            "automargin": true,
            "type": "pie"
           }
          ],
          "scatter": [
           {
            "fillpattern": {
             "fillmode": "overlay",
             "size": 10,
             "solidity": 0.2
            },
            "type": "scatter"
           }
          ],
          "scatter3d": [
           {
            "line": {
             "colorbar": {
              "outlinewidth": 0,
              "ticks": ""
             }
            },
            "marker": {
             "colorbar": {
              "outlinewidth": 0,
              "ticks": ""
             }
            },
            "type": "scatter3d"
           }
          ],
          "scattercarpet": [
           {
            "marker": {
             "colorbar": {
              "outlinewidth": 0,
              "ticks": ""
             }
            },
            "type": "scattercarpet"
           }
          ],
          "scattergeo": [
           {
            "marker": {
             "colorbar": {
              "outlinewidth": 0,
              "ticks": ""
             }
            },
            "type": "scattergeo"
           }
          ],
          "scattergl": [
           {
            "marker": {
             "colorbar": {
              "outlinewidth": 0,
              "ticks": ""
             }
            },
            "type": "scattergl"
           }
          ],
          "scattermapbox": [
           {
            "marker": {
             "colorbar": {
              "outlinewidth": 0,
              "ticks": ""
             }
            },
            "type": "scattermapbox"
           }
          ],
          "scatterpolar": [
           {
            "marker": {
             "colorbar": {
              "outlinewidth": 0,
              "ticks": ""
             }
            },
            "type": "scatterpolar"
           }
          ],
          "scatterpolargl": [
           {
            "marker": {
             "colorbar": {
              "outlinewidth": 0,
              "ticks": ""
             }
            },
            "type": "scatterpolargl"
           }
          ],
          "scatterternary": [
           {
            "marker": {
             "colorbar": {
              "outlinewidth": 0,
              "ticks": ""
             }
            },
            "type": "scatterternary"
           }
          ],
          "surface": [
           {
            "colorbar": {
             "outlinewidth": 0,
             "ticks": ""
            },
            "colorscale": [
             [
              0,
              "#0d0887"
             ],
             [
              0.1111111111111111,
              "#46039f"
             ],
             [
              0.2222222222222222,
              "#7201a8"
             ],
             [
              0.3333333333333333,
              "#9c179e"
             ],
             [
              0.4444444444444444,
              "#bd3786"
             ],
             [
              0.5555555555555556,
              "#d8576b"
             ],
             [
              0.6666666666666666,
              "#ed7953"
             ],
             [
              0.7777777777777778,
              "#fb9f3a"
             ],
             [
              0.8888888888888888,
              "#fdca26"
             ],
             [
              1,
              "#f0f921"
             ]
            ],
            "type": "surface"
           }
          ],
          "table": [
           {
            "cells": {
             "fill": {
              "color": "#EBF0F8"
             },
             "line": {
              "color": "white"
             }
            },
            "header": {
             "fill": {
              "color": "#C8D4E3"
             },
             "line": {
              "color": "white"
             }
            },
            "type": "table"
           }
          ]
         },
         "layout": {
          "annotationdefaults": {
           "arrowcolor": "#2a3f5f",
           "arrowhead": 0,
           "arrowwidth": 1
          },
          "autotypenumbers": "strict",
          "coloraxis": {
           "colorbar": {
            "outlinewidth": 0,
            "ticks": ""
           }
          },
          "colorscale": {
           "diverging": [
            [
             0,
             "#8e0152"
            ],
            [
             0.1,
             "#c51b7d"
            ],
            [
             0.2,
             "#de77ae"
            ],
            [
             0.3,
             "#f1b6da"
            ],
            [
             0.4,
             "#fde0ef"
            ],
            [
             0.5,
             "#f7f7f7"
            ],
            [
             0.6,
             "#e6f5d0"
            ],
            [
             0.7,
             "#b8e186"
            ],
            [
             0.8,
             "#7fbc41"
            ],
            [
             0.9,
             "#4d9221"
            ],
            [
             1,
             "#276419"
            ]
           ],
           "sequential": [
            [
             0,
             "#0d0887"
            ],
            [
             0.1111111111111111,
             "#46039f"
            ],
            [
             0.2222222222222222,
             "#7201a8"
            ],
            [
             0.3333333333333333,
             "#9c179e"
            ],
            [
             0.4444444444444444,
             "#bd3786"
            ],
            [
             0.5555555555555556,
             "#d8576b"
            ],
            [
             0.6666666666666666,
             "#ed7953"
            ],
            [
             0.7777777777777778,
             "#fb9f3a"
            ],
            [
             0.8888888888888888,
             "#fdca26"
            ],
            [
             1,
             "#f0f921"
            ]
           ],
           "sequentialminus": [
            [
             0,
             "#0d0887"
            ],
            [
             0.1111111111111111,
             "#46039f"
            ],
            [
             0.2222222222222222,
             "#7201a8"
            ],
            [
             0.3333333333333333,
             "#9c179e"
            ],
            [
             0.4444444444444444,
             "#bd3786"
            ],
            [
             0.5555555555555556,
             "#d8576b"
            ],
            [
             0.6666666666666666,
             "#ed7953"
            ],
            [
             0.7777777777777778,
             "#fb9f3a"
            ],
            [
             0.8888888888888888,
             "#fdca26"
            ],
            [
             1,
             "#f0f921"
            ]
           ]
          },
          "colorway": [
           "#636efa",
           "#EF553B",
           "#00cc96",
           "#ab63fa",
           "#FFA15A",
           "#19d3f3",
           "#FF6692",
           "#B6E880",
           "#FF97FF",
           "#FECB52"
          ],
          "font": {
           "color": "#2a3f5f"
          },
          "geo": {
           "bgcolor": "white",
           "lakecolor": "white",
           "landcolor": "#E5ECF6",
           "showlakes": true,
           "showland": true,
           "subunitcolor": "white"
          },
          "hoverlabel": {
           "align": "left"
          },
          "hovermode": "closest",
          "mapbox": {
           "style": "light"
          },
          "paper_bgcolor": "white",
          "plot_bgcolor": "#E5ECF6",
          "polar": {
           "angularaxis": {
            "gridcolor": "white",
            "linecolor": "white",
            "ticks": ""
           },
           "bgcolor": "#E5ECF6",
           "radialaxis": {
            "gridcolor": "white",
            "linecolor": "white",
            "ticks": ""
           }
          },
          "scene": {
           "xaxis": {
            "backgroundcolor": "#E5ECF6",
            "gridcolor": "white",
            "gridwidth": 2,
            "linecolor": "white",
            "showbackground": true,
            "ticks": "",
            "zerolinecolor": "white"
           },
           "yaxis": {
            "backgroundcolor": "#E5ECF6",
            "gridcolor": "white",
            "gridwidth": 2,
            "linecolor": "white",
            "showbackground": true,
            "ticks": "",
            "zerolinecolor": "white"
           },
           "zaxis": {
            "backgroundcolor": "#E5ECF6",
            "gridcolor": "white",
            "gridwidth": 2,
            "linecolor": "white",
            "showbackground": true,
            "ticks": "",
            "zerolinecolor": "white"
           }
          },
          "shapedefaults": {
           "line": {
            "color": "#2a3f5f"
           }
          },
          "ternary": {
           "aaxis": {
            "gridcolor": "white",
            "linecolor": "white",
            "ticks": ""
           },
           "baxis": {
            "gridcolor": "white",
            "linecolor": "white",
            "ticks": ""
           },
           "bgcolor": "#E5ECF6",
           "caxis": {
            "gridcolor": "white",
            "linecolor": "white",
            "ticks": ""
           }
          },
          "title": {
           "x": 0.05
          },
          "xaxis": {
           "automargin": true,
           "gridcolor": "white",
           "linecolor": "white",
           "ticks": "",
           "title": {
            "standoff": 15
           },
           "zerolinecolor": "white",
           "zerolinewidth": 2
          },
          "yaxis": {
           "automargin": true,
           "gridcolor": "white",
           "linecolor": "white",
           "ticks": "",
           "title": {
            "standoff": 15
           },
           "zerolinecolor": "white",
           "zerolinewidth": 2
          }
         }
        },
        "title": {
         "text": "Generación residuos sólidos domiciliarios acumulados 2014-2021<br><span style='color: blue;'>Excluye Lima con 18,084 KTM(Miles de Toneladas Métricas)</span>",
         "x": 0.5,
         "xanchor": "center",
         "y": 0.97,
         "yanchor": "top"
        },
        "updatemenus": [
         {
          "buttons": [
           {
            "args": [
             null,
             {
              "frame": {
               "duration": 500,
               "redraw": true
              },
              "fromcurrent": true,
              "mode": "immediate",
              "transition": {
               "duration": 500,
               "easing": "linear"
              }
             }
            ],
            "label": "&#9654;",
            "method": "animate"
           },
           {
            "args": [
             [
              null
             ],
             {
              "frame": {
               "duration": 0,
               "redraw": true
              },
              "fromcurrent": true,
              "mode": "immediate",
              "transition": {
               "duration": 0,
               "easing": "linear"
              }
             }
            ],
            "label": "&#9724;",
            "method": "animate"
           }
          ],
          "direction": "left",
          "pad": {
           "r": 10,
           "t": 70
          },
          "showactive": false,
          "type": "buttons",
          "x": 0.1,
          "xanchor": "right",
          "y": 0,
          "yanchor": "top"
         }
        ],
        "xaxis": {
         "anchor": "y",
         "domain": [
          0,
          1
         ],
         "range": [
          5,
          2334
         ],
         "showgrid": false,
         "showticklabels": false,
         "title": {
          "text": ""
         }
        },
        "yaxis": {
         "anchor": "x",
         "categoryorder": "total ascending",
         "domain": [
          0,
          1
         ],
         "showgrid": false,
         "title": {
          "text": ""
         }
        }
       }
      },
      "text/html": [
       "<div>                            <div id=\"1a307489-5986-4ddc-a101-d78e498cd832\" class=\"plotly-graph-div\" style=\"height:900px; width:100%;\"></div>            <script type=\"text/javascript\">                require([\"plotly\"], function(Plotly) {                    window.PLOTLYENV=window.PLOTLYENV || {};                                    if (document.getElementById(\"1a307489-5986-4ddc-a101-d78e498cd832\")) {                    Plotly.newPlot(                        \"1a307489-5986-4ddc-a101-d78e498cd832\",                        [{\"alignmentgroup\":\"True\",\"hovertemplate\":\"PERIODO=2014\\u003cbr\\u003e=%{x}\\u003cbr\\u003eDEPARTAMENTO=%{y}\\u003cextra\\u003e\\u003c\\u002fextra\\u003e\",\"legendgroup\":\"\",\"marker\":{\"color\":\"blue\",\"pattern\":{\"shape\":\"\"}},\"name\":\"\",\"offsetgroup\":\"\",\"orientation\":\"h\",\"showlegend\":false,\"textposition\":\"outside\",\"x\":[37,135,36,200,69,102,240,172,27,66,127,153,263,185,153,15,23,30,253,147,114,53,34,85],\"xaxis\":\"x\",\"y\":[\"AMAZONAS\",\"ANCASH\",\"APURIMAC\",\"AREQUIPA\",\"AYACUCHO\",\"CAJAMARCA\",\"CALLAO\",\"CUSCO\",\"HUANCAVELICA\",\"HUANUCO\",\"ICA\",\"JUNIN\",\"LA LIBERTAD\",\"LAMBAYEQUE\",\"LORETO\",\"MADRE DE DIOS\",\"MOQUEGUA\",\"PASCO\",\"PIURA\",\"PUNO\",\"SAN MARTIN\",\"TACNA\",\"TUMBES\",\"UCAYALI\"],\"yaxis\":\"y\",\"type\":\"bar\",\"texttemplate\":\"%{x:,.0f}KTM\"}],                        {\"template\":{\"data\":{\"histogram2dcontour\":[{\"type\":\"histogram2dcontour\",\"colorbar\":{\"outlinewidth\":0,\"ticks\":\"\"},\"colorscale\":[[0.0,\"#0d0887\"],[0.1111111111111111,\"#46039f\"],[0.2222222222222222,\"#7201a8\"],[0.3333333333333333,\"#9c179e\"],[0.4444444444444444,\"#bd3786\"],[0.5555555555555556,\"#d8576b\"],[0.6666666666666666,\"#ed7953\"],[0.7777777777777778,\"#fb9f3a\"],[0.8888888888888888,\"#fdca26\"],[1.0,\"#f0f921\"]]}],\"choropleth\":[{\"type\":\"choropleth\",\"colorbar\":{\"outlinewidth\":0,\"ticks\":\"\"}}],\"histogram2d\":[{\"type\":\"histogram2d\",\"colorbar\":{\"outlinewidth\":0,\"ticks\":\"\"},\"colorscale\":[[0.0,\"#0d0887\"],[0.1111111111111111,\"#46039f\"],[0.2222222222222222,\"#7201a8\"],[0.3333333333333333,\"#9c179e\"],[0.4444444444444444,\"#bd3786\"],[0.5555555555555556,\"#d8576b\"],[0.6666666666666666,\"#ed7953\"],[0.7777777777777778,\"#fb9f3a\"],[0.8888888888888888,\"#fdca26\"],[1.0,\"#f0f921\"]]}],\"heatmap\":[{\"type\":\"heatmap\",\"colorbar\":{\"outlinewidth\":0,\"ticks\":\"\"},\"colorscale\":[[0.0,\"#0d0887\"],[0.1111111111111111,\"#46039f\"],[0.2222222222222222,\"#7201a8\"],[0.3333333333333333,\"#9c179e\"],[0.4444444444444444,\"#bd3786\"],[0.5555555555555556,\"#d8576b\"],[0.6666666666666666,\"#ed7953\"],[0.7777777777777778,\"#fb9f3a\"],[0.8888888888888888,\"#fdca26\"],[1.0,\"#f0f921\"]]}],\"heatmapgl\":[{\"type\":\"heatmapgl\",\"colorbar\":{\"outlinewidth\":0,\"ticks\":\"\"},\"colorscale\":[[0.0,\"#0d0887\"],[0.1111111111111111,\"#46039f\"],[0.2222222222222222,\"#7201a8\"],[0.3333333333333333,\"#9c179e\"],[0.4444444444444444,\"#bd3786\"],[0.5555555555555556,\"#d8576b\"],[0.6666666666666666,\"#ed7953\"],[0.7777777777777778,\"#fb9f3a\"],[0.8888888888888888,\"#fdca26\"],[1.0,\"#f0f921\"]]}],\"contourcarpet\":[{\"type\":\"contourcarpet\",\"colorbar\":{\"outlinewidth\":0,\"ticks\":\"\"}}],\"contour\":[{\"type\":\"contour\",\"colorbar\":{\"outlinewidth\":0,\"ticks\":\"\"},\"colorscale\":[[0.0,\"#0d0887\"],[0.1111111111111111,\"#46039f\"],[0.2222222222222222,\"#7201a8\"],[0.3333333333333333,\"#9c179e\"],[0.4444444444444444,\"#bd3786\"],[0.5555555555555556,\"#d8576b\"],[0.6666666666666666,\"#ed7953\"],[0.7777777777777778,\"#fb9f3a\"],[0.8888888888888888,\"#fdca26\"],[1.0,\"#f0f921\"]]}],\"surface\":[{\"type\":\"surface\",\"colorbar\":{\"outlinewidth\":0,\"ticks\":\"\"},\"colorscale\":[[0.0,\"#0d0887\"],[0.1111111111111111,\"#46039f\"],[0.2222222222222222,\"#7201a8\"],[0.3333333333333333,\"#9c179e\"],[0.4444444444444444,\"#bd3786\"],[0.5555555555555556,\"#d8576b\"],[0.6666666666666666,\"#ed7953\"],[0.7777777777777778,\"#fb9f3a\"],[0.8888888888888888,\"#fdca26\"],[1.0,\"#f0f921\"]]}],\"mesh3d\":[{\"type\":\"mesh3d\",\"colorbar\":{\"outlinewidth\":0,\"ticks\":\"\"}}],\"scatter\":[{\"fillpattern\":{\"fillmode\":\"overlay\",\"size\":10,\"solidity\":0.2},\"type\":\"scatter\"}],\"parcoords\":[{\"type\":\"parcoords\",\"line\":{\"colorbar\":{\"outlinewidth\":0,\"ticks\":\"\"}}}],\"scatterpolargl\":[{\"type\":\"scatterpolargl\",\"marker\":{\"colorbar\":{\"outlinewidth\":0,\"ticks\":\"\"}}}],\"bar\":[{\"error_x\":{\"color\":\"#2a3f5f\"},\"error_y\":{\"color\":\"#2a3f5f\"},\"marker\":{\"line\":{\"color\":\"#E5ECF6\",\"width\":0.5},\"pattern\":{\"fillmode\":\"overlay\",\"size\":10,\"solidity\":0.2}},\"type\":\"bar\"}],\"scattergeo\":[{\"type\":\"scattergeo\",\"marker\":{\"colorbar\":{\"outlinewidth\":0,\"ticks\":\"\"}}}],\"scatterpolar\":[{\"type\":\"scatterpolar\",\"marker\":{\"colorbar\":{\"outlinewidth\":0,\"ticks\":\"\"}}}],\"histogram\":[{\"marker\":{\"pattern\":{\"fillmode\":\"overlay\",\"size\":10,\"solidity\":0.2}},\"type\":\"histogram\"}],\"scattergl\":[{\"type\":\"scattergl\",\"marker\":{\"colorbar\":{\"outlinewidth\":0,\"ticks\":\"\"}}}],\"scatter3d\":[{\"type\":\"scatter3d\",\"line\":{\"colorbar\":{\"outlinewidth\":0,\"ticks\":\"\"}},\"marker\":{\"colorbar\":{\"outlinewidth\":0,\"ticks\":\"\"}}}],\"scattermapbox\":[{\"type\":\"scattermapbox\",\"marker\":{\"colorbar\":{\"outlinewidth\":0,\"ticks\":\"\"}}}],\"scatterternary\":[{\"type\":\"scatterternary\",\"marker\":{\"colorbar\":{\"outlinewidth\":0,\"ticks\":\"\"}}}],\"scattercarpet\":[{\"type\":\"scattercarpet\",\"marker\":{\"colorbar\":{\"outlinewidth\":0,\"ticks\":\"\"}}}],\"carpet\":[{\"aaxis\":{\"endlinecolor\":\"#2a3f5f\",\"gridcolor\":\"white\",\"linecolor\":\"white\",\"minorgridcolor\":\"white\",\"startlinecolor\":\"#2a3f5f\"},\"baxis\":{\"endlinecolor\":\"#2a3f5f\",\"gridcolor\":\"white\",\"linecolor\":\"white\",\"minorgridcolor\":\"white\",\"startlinecolor\":\"#2a3f5f\"},\"type\":\"carpet\"}],\"table\":[{\"cells\":{\"fill\":{\"color\":\"#EBF0F8\"},\"line\":{\"color\":\"white\"}},\"header\":{\"fill\":{\"color\":\"#C8D4E3\"},\"line\":{\"color\":\"white\"}},\"type\":\"table\"}],\"barpolar\":[{\"marker\":{\"line\":{\"color\":\"#E5ECF6\",\"width\":0.5},\"pattern\":{\"fillmode\":\"overlay\",\"size\":10,\"solidity\":0.2}},\"type\":\"barpolar\"}],\"pie\":[{\"automargin\":true,\"type\":\"pie\"}]},\"layout\":{\"autotypenumbers\":\"strict\",\"colorway\":[\"#636efa\",\"#EF553B\",\"#00cc96\",\"#ab63fa\",\"#FFA15A\",\"#19d3f3\",\"#FF6692\",\"#B6E880\",\"#FF97FF\",\"#FECB52\"],\"font\":{\"color\":\"#2a3f5f\"},\"hovermode\":\"closest\",\"hoverlabel\":{\"align\":\"left\"},\"paper_bgcolor\":\"white\",\"plot_bgcolor\":\"#E5ECF6\",\"polar\":{\"bgcolor\":\"#E5ECF6\",\"angularaxis\":{\"gridcolor\":\"white\",\"linecolor\":\"white\",\"ticks\":\"\"},\"radialaxis\":{\"gridcolor\":\"white\",\"linecolor\":\"white\",\"ticks\":\"\"}},\"ternary\":{\"bgcolor\":\"#E5ECF6\",\"aaxis\":{\"gridcolor\":\"white\",\"linecolor\":\"white\",\"ticks\":\"\"},\"baxis\":{\"gridcolor\":\"white\",\"linecolor\":\"white\",\"ticks\":\"\"},\"caxis\":{\"gridcolor\":\"white\",\"linecolor\":\"white\",\"ticks\":\"\"}},\"coloraxis\":{\"colorbar\":{\"outlinewidth\":0,\"ticks\":\"\"}},\"colorscale\":{\"sequential\":[[0.0,\"#0d0887\"],[0.1111111111111111,\"#46039f\"],[0.2222222222222222,\"#7201a8\"],[0.3333333333333333,\"#9c179e\"],[0.4444444444444444,\"#bd3786\"],[0.5555555555555556,\"#d8576b\"],[0.6666666666666666,\"#ed7953\"],[0.7777777777777778,\"#fb9f3a\"],[0.8888888888888888,\"#fdca26\"],[1.0,\"#f0f921\"]],\"sequentialminus\":[[0.0,\"#0d0887\"],[0.1111111111111111,\"#46039f\"],[0.2222222222222222,\"#7201a8\"],[0.3333333333333333,\"#9c179e\"],[0.4444444444444444,\"#bd3786\"],[0.5555555555555556,\"#d8576b\"],[0.6666666666666666,\"#ed7953\"],[0.7777777777777778,\"#fb9f3a\"],[0.8888888888888888,\"#fdca26\"],[1.0,\"#f0f921\"]],\"diverging\":[[0,\"#8e0152\"],[0.1,\"#c51b7d\"],[0.2,\"#de77ae\"],[0.3,\"#f1b6da\"],[0.4,\"#fde0ef\"],[0.5,\"#f7f7f7\"],[0.6,\"#e6f5d0\"],[0.7,\"#b8e186\"],[0.8,\"#7fbc41\"],[0.9,\"#4d9221\"],[1,\"#276419\"]]},\"xaxis\":{\"gridcolor\":\"white\",\"linecolor\":\"white\",\"ticks\":\"\",\"title\":{\"standoff\":15},\"zerolinecolor\":\"white\",\"automargin\":true,\"zerolinewidth\":2},\"yaxis\":{\"gridcolor\":\"white\",\"linecolor\":\"white\",\"ticks\":\"\",\"title\":{\"standoff\":15},\"zerolinecolor\":\"white\",\"automargin\":true,\"zerolinewidth\":2},\"scene\":{\"xaxis\":{\"backgroundcolor\":\"#E5ECF6\",\"gridcolor\":\"white\",\"linecolor\":\"white\",\"showbackground\":true,\"ticks\":\"\",\"zerolinecolor\":\"white\",\"gridwidth\":2},\"yaxis\":{\"backgroundcolor\":\"#E5ECF6\",\"gridcolor\":\"white\",\"linecolor\":\"white\",\"showbackground\":true,\"ticks\":\"\",\"zerolinecolor\":\"white\",\"gridwidth\":2},\"zaxis\":{\"backgroundcolor\":\"#E5ECF6\",\"gridcolor\":\"white\",\"linecolor\":\"white\",\"showbackground\":true,\"ticks\":\"\",\"zerolinecolor\":\"white\",\"gridwidth\":2}},\"shapedefaults\":{\"line\":{\"color\":\"#2a3f5f\"}},\"annotationdefaults\":{\"arrowcolor\":\"#2a3f5f\",\"arrowhead\":0,\"arrowwidth\":1},\"geo\":{\"bgcolor\":\"white\",\"landcolor\":\"#E5ECF6\",\"subunitcolor\":\"white\",\"showland\":true,\"showlakes\":true,\"lakecolor\":\"white\"},\"title\":{\"x\":0.05},\"mapbox\":{\"style\":\"light\"}}},\"xaxis\":{\"anchor\":\"y\",\"domain\":[0.0,1.0],\"title\":{\"text\":\"\"},\"range\":[5,2334],\"showticklabels\":false,\"showgrid\":false},\"yaxis\":{\"anchor\":\"x\",\"domain\":[0.0,1.0],\"title\":{\"text\":\"\"},\"categoryorder\":\"total ascending\",\"showgrid\":false},\"legend\":{\"tracegroupgap\":0},\"margin\":{\"t\":60},\"barmode\":\"relative\",\"updatemenus\":[{\"buttons\":[{\"args\":[null,{\"frame\":{\"duration\":500,\"redraw\":true},\"mode\":\"immediate\",\"fromcurrent\":true,\"transition\":{\"duration\":500,\"easing\":\"linear\"}}],\"label\":\"&#9654;\",\"method\":\"animate\"},{\"args\":[[null],{\"frame\":{\"duration\":0,\"redraw\":true},\"mode\":\"immediate\",\"fromcurrent\":true,\"transition\":{\"duration\":0,\"easing\":\"linear\"}}],\"label\":\"&#9724;\",\"method\":\"animate\"}],\"direction\":\"left\",\"pad\":{\"r\":10,\"t\":70},\"showactive\":false,\"type\":\"buttons\",\"x\":0.1,\"xanchor\":\"right\",\"y\":0,\"yanchor\":\"top\"}],\"sliders\":[{\"active\":0,\"currentvalue\":{\"prefix\":\"PERIODO=\"},\"len\":0.9,\"pad\":{\"b\":10,\"t\":60},\"steps\":[{\"args\":[[\"2014\"],{\"frame\":{\"duration\":0,\"redraw\":true},\"mode\":\"immediate\",\"fromcurrent\":true,\"transition\":{\"duration\":0,\"easing\":\"linear\"}}],\"label\":\"2014\",\"method\":\"animate\"},{\"args\":[[\"2015\"],{\"frame\":{\"duration\":0,\"redraw\":true},\"mode\":\"immediate\",\"fromcurrent\":true,\"transition\":{\"duration\":0,\"easing\":\"linear\"}}],\"label\":\"2015\",\"method\":\"animate\"},{\"args\":[[\"2016\"],{\"frame\":{\"duration\":0,\"redraw\":true},\"mode\":\"immediate\",\"fromcurrent\":true,\"transition\":{\"duration\":0,\"easing\":\"linear\"}}],\"label\":\"2016\",\"method\":\"animate\"},{\"args\":[[\"2017\"],{\"frame\":{\"duration\":0,\"redraw\":true},\"mode\":\"immediate\",\"fromcurrent\":true,\"transition\":{\"duration\":0,\"easing\":\"linear\"}}],\"label\":\"2017\",\"method\":\"animate\"},{\"args\":[[\"2018\"],{\"frame\":{\"duration\":0,\"redraw\":true},\"mode\":\"immediate\",\"fromcurrent\":true,\"transition\":{\"duration\":0,\"easing\":\"linear\"}}],\"label\":\"2018\",\"method\":\"animate\"},{\"args\":[[\"2019\"],{\"frame\":{\"duration\":0,\"redraw\":true},\"mode\":\"immediate\",\"fromcurrent\":true,\"transition\":{\"duration\":0,\"easing\":\"linear\"}}],\"label\":\"2019\",\"method\":\"animate\"},{\"args\":[[\"2020\"],{\"frame\":{\"duration\":0,\"redraw\":true},\"mode\":\"immediate\",\"fromcurrent\":true,\"transition\":{\"duration\":0,\"easing\":\"linear\"}}],\"label\":\"2020\",\"method\":\"animate\"},{\"args\":[[\"2021\"],{\"frame\":{\"duration\":0,\"redraw\":true},\"mode\":\"immediate\",\"fromcurrent\":true,\"transition\":{\"duration\":0,\"easing\":\"linear\"}}],\"label\":\"2021\",\"method\":\"animate\"}],\"x\":0.1,\"xanchor\":\"left\",\"y\":0,\"yanchor\":\"top\"}],\"showlegend\":false,\"height\":900,\"title\":{\"text\":\"Generaci\\u00f3n residuos s\\u00f3lidos domiciliarios acumulados 2014-2021\\u003cbr\\u003e\\u003cspan style='color: blue;'\\u003eExcluye Lima con 18,084 KTM(Miles de Toneladas M\\u00e9tricas)\\u003c\\u002fspan\\u003e\",\"y\":0.97,\"x\":0.5,\"xanchor\":\"center\",\"yanchor\":\"top\"}},                        {\"responsive\": true}                    ).then(function(){\n",
       "                            Plotly.addFrames('1a307489-5986-4ddc-a101-d78e498cd832', [{\"data\":[{\"alignmentgroup\":\"True\",\"hovertemplate\":\"PERIODO=2014\\u003cbr\\u003e=%{x}\\u003cbr\\u003eDEPARTAMENTO=%{y}\\u003cextra\\u003e\\u003c\\u002fextra\\u003e\",\"legendgroup\":\"\",\"marker\":{\"color\":\"#636efa\",\"pattern\":{\"shape\":\"\"}},\"name\":\"\",\"offsetgroup\":\"\",\"orientation\":\"h\",\"showlegend\":false,\"textposition\":\"auto\",\"x\":[37,135,36,200,69,102,240,172,27,66,127,153,263,185,153,15,23,30,253,147,114,53,34,85],\"xaxis\":\"x\",\"y\":[\"AMAZONAS\",\"ANCASH\",\"APURIMAC\",\"AREQUIPA\",\"AYACUCHO\",\"CAJAMARCA\",\"CALLAO\",\"CUSCO\",\"HUANCAVELICA\",\"HUANUCO\",\"ICA\",\"JUNIN\",\"LA LIBERTAD\",\"LAMBAYEQUE\",\"LORETO\",\"MADRE DE DIOS\",\"MOQUEGUA\",\"PASCO\",\"PIURA\",\"PUNO\",\"SAN MARTIN\",\"TACNA\",\"TUMBES\",\"UCAYALI\"],\"yaxis\":\"y\",\"type\":\"bar\"}],\"name\":\"2014\"},{\"data\":[{\"alignmentgroup\":\"True\",\"hovertemplate\":\"PERIODO=2015\\u003cbr\\u003e=%{x}\\u003cbr\\u003eDEPARTAMENTO=%{y}\\u003cextra\\u003e\\u003c\\u002fextra\\u003e\",\"legendgroup\":\"\",\"marker\":{\"color\":\"#636efa\",\"pattern\":{\"shape\":\"\"}},\"name\":\"\",\"offsetgroup\":\"\",\"orientation\":\"h\",\"showlegend\":false,\"textposition\":\"auto\",\"x\":[72,289,72,404,151,206,481,322,54,127,254,321,540,395,303,32,46,55,536,274,219,106,71,173],\"xaxis\":\"x\",\"y\":[\"AMAZONAS\",\"ANCASH\",\"APURIMAC\",\"AREQUIPA\",\"AYACUCHO\",\"CAJAMARCA\",\"CALLAO\",\"CUSCO\",\"HUANCAVELICA\",\"HUANUCO\",\"ICA\",\"JUNIN\",\"LA LIBERTAD\",\"LAMBAYEQUE\",\"LORETO\",\"MADRE DE DIOS\",\"MOQUEGUA\",\"PASCO\",\"PIURA\",\"PUNO\",\"SAN MARTIN\",\"TACNA\",\"TUMBES\",\"UCAYALI\"],\"yaxis\":\"y\",\"type\":\"bar\"}],\"name\":\"2015\"},{\"data\":[{\"alignmentgroup\":\"True\",\"hovertemplate\":\"PERIODO=2016\\u003cbr\\u003e=%{x}\\u003cbr\\u003eDEPARTAMENTO=%{y}\\u003cextra\\u003e\\u003c\\u002fextra\\u003e\",\"legendgroup\":\"\",\"marker\":{\"color\":\"#636efa\",\"pattern\":{\"shape\":\"\"}},\"name\":\"\",\"offsetgroup\":\"\",\"orientation\":\"h\",\"showlegend\":false,\"textposition\":\"auto\",\"x\":[108,438,112,613,225,307,705,475,79,187,385,492,806,603,453,51,71,81,811,389,329,157,107,264],\"xaxis\":\"x\",\"y\":[\"AMAZONAS\",\"ANCASH\",\"APURIMAC\",\"AREQUIPA\",\"AYACUCHO\",\"CAJAMARCA\",\"CALLAO\",\"CUSCO\",\"HUANCAVELICA\",\"HUANUCO\",\"ICA\",\"JUNIN\",\"LA LIBERTAD\",\"LAMBAYEQUE\",\"LORETO\",\"MADRE DE DIOS\",\"MOQUEGUA\",\"PASCO\",\"PIURA\",\"PUNO\",\"SAN MARTIN\",\"TACNA\",\"TUMBES\",\"UCAYALI\"],\"yaxis\":\"y\",\"type\":\"bar\"}],\"name\":\"2016\"},{\"data\":[{\"alignmentgroup\":\"True\",\"hovertemplate\":\"PERIODO=2017\\u003cbr\\u003e=%{x}\\u003cbr\\u003eDEPARTAMENTO=%{y}\\u003cextra\\u003e\\u003c\\u002fextra\\u003e\",\"legendgroup\":\"\",\"marker\":{\"color\":\"#636efa\",\"pattern\":{\"shape\":\"\"}},\"name\":\"\",\"offsetgroup\":\"\",\"orientation\":\"h\",\"showlegend\":false,\"textposition\":\"auto\",\"x\":[144,584,152,824,307,407,933,632,104,247,517,670,1078,817,596,71,96,109,1090,512,439,209,144,355],\"xaxis\":\"x\",\"y\":[\"AMAZONAS\",\"ANCASH\",\"APURIMAC\",\"AREQUIPA\",\"AYACUCHO\",\"CAJAMARCA\",\"CALLAO\",\"CUSCO\",\"HUANCAVELICA\",\"HUANUCO\",\"ICA\",\"JUNIN\",\"LA LIBERTAD\",\"LAMBAYEQUE\",\"LORETO\",\"MADRE DE DIOS\",\"MOQUEGUA\",\"PASCO\",\"PIURA\",\"PUNO\",\"SAN MARTIN\",\"TACNA\",\"TUMBES\",\"UCAYALI\"],\"yaxis\":\"y\",\"type\":\"bar\"}],\"name\":\"2017\"},{\"data\":[{\"alignmentgroup\":\"True\",\"hovertemplate\":\"PERIODO=2018\\u003cbr\\u003e=%{x}\\u003cbr\\u003eDEPARTAMENTO=%{y}\\u003cextra\\u003e\\u003c\\u002fextra\\u003e\",\"legendgroup\":\"\",\"marker\":{\"color\":\"#636efa\",\"pattern\":{\"shape\":\"\"}},\"name\":\"\",\"offsetgroup\":\"\",\"orientation\":\"h\",\"showlegend\":false,\"textposition\":\"auto\",\"x\":[182,739,199,1076,395,513,1165,792,131,322,673,862,1377,1021,743,98,123,138,1399,634,566,260,181,456],\"xaxis\":\"x\",\"y\":[\"AMAZONAS\",\"ANCASH\",\"APURIMAC\",\"AREQUIPA\",\"AYACUCHO\",\"CAJAMARCA\",\"CALLAO\",\"CUSCO\",\"HUANCAVELICA\",\"HUANUCO\",\"ICA\",\"JUNIN\",\"LA LIBERTAD\",\"LAMBAYEQUE\",\"LORETO\",\"MADRE DE DIOS\",\"MOQUEGUA\",\"PASCO\",\"PIURA\",\"PUNO\",\"SAN MARTIN\",\"TACNA\",\"TUMBES\",\"UCAYALI\"],\"yaxis\":\"y\",\"type\":\"bar\"}],\"name\":\"2018\"},{\"data\":[{\"alignmentgroup\":\"True\",\"hovertemplate\":\"PERIODO=2019\\u003cbr\\u003e=%{x}\\u003cbr\\u003eDEPARTAMENTO=%{y}\\u003cextra\\u003e\\u003c\\u002fextra\\u003e\",\"legendgroup\":\"\",\"marker\":{\"color\":\"#636efa\",\"pattern\":{\"shape\":\"\"}},\"name\":\"\",\"offsetgroup\":\"\",\"orientation\":\"h\",\"showlegend\":false,\"textposition\":\"auto\",\"x\":[222,907,242,1308,482,615,1387,954,156,401,842,1052,1682,1250,910,126,152,164,1700,770,702,313,225,558],\"xaxis\":\"x\",\"y\":[\"AMAZONAS\",\"ANCASH\",\"APURIMAC\",\"AREQUIPA\",\"AYACUCHO\",\"CAJAMARCA\",\"CALLAO\",\"CUSCO\",\"HUANCAVELICA\",\"HUANUCO\",\"ICA\",\"JUNIN\",\"LA LIBERTAD\",\"LAMBAYEQUE\",\"LORETO\",\"MADRE DE DIOS\",\"MOQUEGUA\",\"PASCO\",\"PIURA\",\"PUNO\",\"SAN MARTIN\",\"TACNA\",\"TUMBES\",\"UCAYALI\"],\"yaxis\":\"y\",\"type\":\"bar\"}],\"name\":\"2019\"},{\"data\":[{\"alignmentgroup\":\"True\",\"hovertemplate\":\"PERIODO=2020\\u003cbr\\u003e=%{x}\\u003cbr\\u003eDEPARTAMENTO=%{y}\\u003cextra\\u003e\\u003c\\u002fextra\\u003e\",\"legendgroup\":\"\",\"marker\":{\"color\":\"#636efa\",\"pattern\":{\"shape\":\"\"}},\"name\":\"\",\"offsetgroup\":\"\",\"orientation\":\"h\",\"showlegend\":false,\"textposition\":\"auto\",\"x\":[262,1077,284,1544,570,716,1614,1118,181,481,1013,1242,1992,1481,1078,154,182,191,2009,906,840,367,270,663],\"xaxis\":\"x\",\"y\":[\"AMAZONAS\",\"ANCASH\",\"APURIMAC\",\"AREQUIPA\",\"AYACUCHO\",\"CAJAMARCA\",\"CALLAO\",\"CUSCO\",\"HUANCAVELICA\",\"HUANUCO\",\"ICA\",\"JUNIN\",\"LA LIBERTAD\",\"LAMBAYEQUE\",\"LORETO\",\"MADRE DE DIOS\",\"MOQUEGUA\",\"PASCO\",\"PIURA\",\"PUNO\",\"SAN MARTIN\",\"TACNA\",\"TUMBES\",\"UCAYALI\"],\"yaxis\":\"y\",\"type\":\"bar\"}],\"name\":\"2020\"},{\"data\":[{\"alignmentgroup\":\"True\",\"hovertemplate\":\"PERIODO=2021\\u003cbr\\u003e=%{x}\\u003cbr\\u003eDEPARTAMENTO=%{y}\\u003cextra\\u003e\\u003c\\u002fextra\\u003e\",\"legendgroup\":\"\",\"marker\":{\"color\":\"#636efa\",\"pattern\":{\"shape\":\"\"}},\"name\":\"\",\"offsetgroup\":\"\",\"orientation\":\"h\",\"showlegend\":false,\"textposition\":\"auto\",\"x\":[297,1246,328,1793,658,826,1889,1283,210,557,1187,1439,2310,1708,1244,185,217,217,2324,1060,984,424,318,772],\"xaxis\":\"x\",\"y\":[\"AMAZONAS\",\"ANCASH\",\"APURIMAC\",\"AREQUIPA\",\"AYACUCHO\",\"CAJAMARCA\",\"CALLAO\",\"CUSCO\",\"HUANCAVELICA\",\"HUANUCO\",\"ICA\",\"JUNIN\",\"LA LIBERTAD\",\"LAMBAYEQUE\",\"LORETO\",\"MADRE DE DIOS\",\"MOQUEGUA\",\"PASCO\",\"PIURA\",\"PUNO\",\"SAN MARTIN\",\"TACNA\",\"TUMBES\",\"UCAYALI\"],\"yaxis\":\"y\",\"type\":\"bar\"}],\"name\":\"2021\"}]);\n",
       "                        }).then(function(){\n",
       "                            \n",
       "var gd = document.getElementById('1a307489-5986-4ddc-a101-d78e498cd832');\n",
       "var x = new MutationObserver(function (mutations, observer) {{\n",
       "        var display = window.getComputedStyle(gd).display;\n",
       "        if (!display || display === 'none') {{\n",
       "            console.log([gd, 'removed!']);\n",
       "            Plotly.purge(gd);\n",
       "            observer.disconnect();\n",
       "        }}\n",
       "}});\n",
       "\n",
       "// Listen for the removal of the full notebook cells\n",
       "var notebookContainer = gd.closest('#notebook-container');\n",
       "if (notebookContainer) {{\n",
       "    x.observe(notebookContainer, {childList: true});\n",
       "}}\n",
       "\n",
       "// Listen for the clearing of the current output cell\n",
       "var outputEl = gd.closest('.output');\n",
       "if (outputEl) {{\n",
       "    x.observe(outputEl, {childList: true});\n",
       "}}\n",
       "\n",
       "                        })                };                });            </script>        </div>"
      ]
     },
     "metadata": {},
     "output_type": "display_data"
    }
   ],
   "source": [
    "fig = px.bar(df3, \n",
    "             x=\"KQRESIDUOS_DOM_ACUM\", \n",
    "             y=\"DEPARTAMENTO\", \n",
    "           #  color=\"DEPARTAMENTO\", \n",
    "             animation_frame=\"PERIODO\",\n",
    "             labels={'KQRESIDUOS_DOM_ACUM': ''},\n",
    "             orientation='h',\n",
    "             range_x=[df3['KQRESIDUOS_DOM_ACUM'].min() - 10, df3['KQRESIDUOS_DOM_ACUM'].max() + 10 ]\n",
    "             )\n",
    "\n",
    "fig.update_layout(showlegend=False)\n",
    "fig.update_traces(marker_color='blue',texttemplate='%{x:,.0f}KTM', textposition='outside', selector=dict(type='bar'))\n",
    "fig.update_layout(yaxis=dict(categoryorder='total ascending', title_text=\"\"),\n",
    "                  xaxis=dict(showticklabels=False))\n",
    "fig.update_layout(height=900)  # Ajusta el valor según sea necesario\n",
    "fig.update_layout(\n",
    "    xaxis=dict(\n",
    "        showgrid=False,  # Esto desactiva la cuadrícula en el eje X\n",
    "        showticklabels=False\n",
    "    ),\n",
    "    yaxis=dict(\n",
    "        showgrid=False,  # Esto desactiva la cuadrícula en el eje Y\n",
    "        categoryorder='total ascending', \n",
    "        title_text=\"\"\n",
    "    ),\n",
    "    title={\n",
    "        'text': \"Generación residuos sólidos domiciliarios acumulados 2014-2021<br><span style='color: blue;'>Excluye Lima con 18,084 KTM(Miles de Toneladas Métricas)</span>\",\n",
    "        'y':0.97,\n",
    "        'x':0.5,\n",
    "        'xanchor': 'center',\n",
    "        'yanchor': 'top'\n",
    "    }\n",
    ")\n",
    "fig.show()\n"
   ]
  },
  {
   "cell_type": "code",
   "execution_count": 19,
   "id": "b2b9c460",
   "metadata": {},
   "outputs": [
    {
     "data": {
      "text/plain": [
       "'my_plotly_graph.html'"
      ]
     },
     "execution_count": 19,
     "metadata": {},
     "output_type": "execute_result"
    }
   ],
   "source": [
    "fig = px.bar(df3, \n",
    "             x=\"KQRESIDUOS_DOM_ACUM\", \n",
    "             y=\"DEPARTAMENTO\", \n",
    "           #  color=\"DEPARTAMENTO\", \n",
    "             animation_frame=\"PERIODO\",\n",
    "             labels={'KQRESIDUOS_DOM_ACUM': ''},\n",
    "             orientation='h',\n",
    "             range_x=[df3['KQRESIDUOS_DOM_ACUM'].min() - 10, df3['KQRESIDUOS_DOM_ACUM'].max() + 10 ]\n",
    "             )\n",
    "\n",
    "fig.update_layout(showlegend=False)\n",
    "fig.update_traces(marker_color='blue',texttemplate='%{x:,.0f}KTM', textposition='outside', selector=dict(type='bar'))\n",
    "fig.update_layout(yaxis=dict(categoryorder='total ascending', title_text=\"\"),\n",
    "                  xaxis=dict(showticklabels=False))\n",
    "fig.update_layout(height=900)  # Ajusta el valor según sea necesario\n",
    "fig.update_layout(\n",
    "    xaxis=dict(\n",
    "        showgrid=False,  # Esto desactiva la cuadrícula en el eje X\n",
    "        showticklabels=False\n",
    "    ),\n",
    "    yaxis=dict(\n",
    "        showgrid=False,  # Esto desactiva la cuadrícula en el eje Y\n",
    "        categoryorder='total ascending', \n",
    "        title_text=\"\"\n",
    "    ),\n",
    "    title={\n",
    "        'text': \"Generación de residuos sólidos domiciliarios acumulados 2014-2021<br><span style='color: blue;'>Excluye Lima con 18,084 KTM(Miles de Toneladas Métricas)</span>\",\n",
    "        'y':0.97,\n",
    "        'x':0.5,\n",
    "        'xanchor': 'center',\n",
    "        'yanchor': 'top'\n",
    "    }\n",
    ")\n",
    "plot(fig, filename='my_plotly_graph.html')"
   ]
  },
  {
   "cell_type": "code",
   "execution_count": null,
   "id": "d911eb73",
   "metadata": {},
   "outputs": [],
   "source": []
  }
 ],
 "metadata": {
  "kernelspec": {
   "display_name": "Python 3 (ipykernel)",
   "language": "python",
   "name": "python3"
  },
  "language_info": {
   "codemirror_mode": {
    "name": "ipython",
    "version": 3
   },
   "file_extension": ".py",
   "mimetype": "text/x-python",
   "name": "python",
   "nbconvert_exporter": "python",
   "pygments_lexer": "ipython3",
   "version": "3.11.4"
  }
 },
 "nbformat": 4,
 "nbformat_minor": 5
}
