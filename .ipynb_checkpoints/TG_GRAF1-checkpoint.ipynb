{
 "cells": [
  {
   "cell_type": "markdown",
   "id": "c7b79e18",
   "metadata": {},
   "source": [
    "## GRUPO 4\n",
    "### Cabrera Dávila , Jorge Luis  /   Machacuay Navarro, Juan / Wiillian\n"
   ]
  },
  {
   "cell_type": "code",
   "execution_count": 1,
   "id": "e11dd673",
   "metadata": {},
   "outputs": [],
   "source": [
    "%matplotlib inline\n",
    "import pandas as pd\n",
    "import numpy as np\n",
    "import matplotlib.pyplot as plt\n",
    "import geopandas as gpd"
   ]
  },
  {
   "cell_type": "code",
   "execution_count": 2,
   "id": "b9b00e6e",
   "metadata": {},
   "outputs": [],
   "source": [
    "df = pd.read_csv('tb_medida_estaciones.csv')"
   ]
  },
  {
   "cell_type": "code",
   "execution_count": 17,
   "id": "79ef0368",
   "metadata": {},
   "outputs": [],
   "source": [
    "# Cargar el archivo JSON https://github.com/juaneladio/peru-geojson/blob/master/\n",
    "url_geojson = \"archive/peru_departamental_simple.geojson\""
   ]
  },
  {
   "cell_type": "code",
   "execution_count": 3,
   "id": "3684039e",
   "metadata": {},
   "outputs": [
    {
     "data": {
      "text/html": [
       "<div>\n",
       "<style scoped>\n",
       "    .dataframe tbody tr th:only-of-type {\n",
       "        vertical-align: middle;\n",
       "    }\n",
       "\n",
       "    .dataframe tbody tr th {\n",
       "        vertical-align: top;\n",
       "    }\n",
       "\n",
       "    .dataframe thead th {\n",
       "        text-align: right;\n",
       "    }\n",
       "</style>\n",
       "<table border=\"1\" class=\"dataframe\">\n",
       "  <thead>\n",
       "    <tr style=\"text-align: right;\">\n",
       "      <th></th>\n",
       "      <th>FECHA_CORTE</th>\n",
       "      <th>FECHA_MUESTRA</th>\n",
       "      <th>CUENTA</th>\n",
       "      <th>ESTACION</th>\n",
       "      <th>UNIDAD_MEDIDA</th>\n",
       "      <th>TIPO_ESTACION</th>\n",
       "      <th>DEPARTAMENTO</th>\n",
       "      <th>PROVINCIA</th>\n",
       "      <th>DISTRITO</th>\n",
       "      <th>UBIGEO</th>\n",
       "      <th>CAUDAL07H</th>\n",
       "      <th>PROMEDIO24H</th>\n",
       "      <th>MAXIMA24H</th>\n",
       "      <th>PRECIP24H</th>\n",
       "    </tr>\n",
       "  </thead>\n",
       "  <tbody>\n",
       "    <tr>\n",
       "      <th>0</th>\n",
       "      <td>20230706</td>\n",
       "      <td>20230706</td>\n",
       "      <td>PRESA EJIDOS</td>\n",
       "      <td>CANAL PRINCIPAL</td>\n",
       "      <td>m3/s</td>\n",
       "      <td>HIDROMETRICA</td>\n",
       "      <td>Piura</td>\n",
       "      <td>Piura</td>\n",
       "      <td>Castilla</td>\n",
       "      <td>200104</td>\n",
       "      <td>11.41</td>\n",
       "      <td>11.42</td>\n",
       "      <td>0.0</td>\n",
       "      <td>0.0</td>\n",
       "    </tr>\n",
       "    <tr>\n",
       "      <th>1</th>\n",
       "      <td>20230706</td>\n",
       "      <td>20230706</td>\n",
       "      <td>PRESA EJIDOS</td>\n",
       "      <td>PTE. SANCHEZ CERRO</td>\n",
       "      <td>m3/s</td>\n",
       "      <td>HIDROLOGICA</td>\n",
       "      <td>Piura</td>\n",
       "      <td>Piura</td>\n",
       "      <td>Castilla</td>\n",
       "      <td>200104</td>\n",
       "      <td>56.00</td>\n",
       "      <td>62.00</td>\n",
       "      <td>67.0</td>\n",
       "      <td>0.0</td>\n",
       "    </tr>\n",
       "    <tr>\n",
       "      <th>2</th>\n",
       "      <td>20230706</td>\n",
       "      <td>20230706</td>\n",
       "      <td>PRESA EJIDOS</td>\n",
       "      <td>COTE EMBALSE</td>\n",
       "      <td>msnm</td>\n",
       "      <td>PRESA</td>\n",
       "      <td>Piura</td>\n",
       "      <td>Piura</td>\n",
       "      <td>Castilla</td>\n",
       "      <td>200104</td>\n",
       "      <td>30.60</td>\n",
       "      <td>0.00</td>\n",
       "      <td>30.6</td>\n",
       "      <td>0.0</td>\n",
       "    </tr>\n",
       "    <tr>\n",
       "      <th>3</th>\n",
       "      <td>20230706</td>\n",
       "      <td>20230706</td>\n",
       "      <td>RIO PIURA</td>\n",
       "      <td>EL PAPAYO</td>\n",
       "      <td>m3/s</td>\n",
       "      <td>HIDROLOGICA</td>\n",
       "      <td>Piura</td>\n",
       "      <td>Piura</td>\n",
       "      <td>Castilla</td>\n",
       "      <td>200104</td>\n",
       "      <td>0.00</td>\n",
       "      <td>0.00</td>\n",
       "      <td>0.0</td>\n",
       "      <td>0.0</td>\n",
       "    </tr>\n",
       "    <tr>\n",
       "      <th>4</th>\n",
       "      <td>20230706</td>\n",
       "      <td>20230706</td>\n",
       "      <td>RIO PIURA</td>\n",
       "      <td>TAMBOGRANDE</td>\n",
       "      <td>m3/s</td>\n",
       "      <td>HIDROLOGICA</td>\n",
       "      <td>Piura</td>\n",
       "      <td>Piura</td>\n",
       "      <td>Tambo Grande</td>\n",
       "      <td>200114</td>\n",
       "      <td>45.00</td>\n",
       "      <td>45.00</td>\n",
       "      <td>45.0</td>\n",
       "      <td>0.0</td>\n",
       "    </tr>\n",
       "  </tbody>\n",
       "</table>\n",
       "</div>"
      ],
      "text/plain": [
       "   FECHA_CORTE  FECHA_MUESTRA        CUENTA            ESTACION UNIDAD_MEDIDA  \\\n",
       "0     20230706       20230706  PRESA EJIDOS     CANAL PRINCIPAL          m3/s   \n",
       "1     20230706       20230706  PRESA EJIDOS  PTE. SANCHEZ CERRO          m3/s   \n",
       "2     20230706       20230706  PRESA EJIDOS        COTE EMBALSE          msnm   \n",
       "3     20230706       20230706     RIO PIURA           EL PAPAYO          m3/s   \n",
       "4     20230706       20230706     RIO PIURA         TAMBOGRANDE          m3/s   \n",
       "\n",
       "  TIPO_ESTACION DEPARTAMENTO PROVINCIA      DISTRITO  UBIGEO  CAUDAL07H  \\\n",
       "0  HIDROMETRICA        Piura    Piura       Castilla  200104      11.41   \n",
       "1   HIDROLOGICA        Piura    Piura       Castilla  200104      56.00   \n",
       "2         PRESA        Piura    Piura       Castilla  200104      30.60   \n",
       "3   HIDROLOGICA        Piura    Piura       Castilla  200104       0.00   \n",
       "4   HIDROLOGICA        Piura    Piura   Tambo Grande  200114      45.00   \n",
       "\n",
       "   PROMEDIO24H  MAXIMA24H  PRECIP24H  \n",
       "0        11.42        0.0        0.0  \n",
       "1        62.00       67.0        0.0  \n",
       "2         0.00       30.6        0.0  \n",
       "3         0.00        0.0        0.0  \n",
       "4        45.00       45.0        0.0  "
      ]
     },
     "execution_count": 3,
     "metadata": {},
     "output_type": "execute_result"
    }
   ],
   "source": [
    "df.head() "
   ]
  },
  {
   "cell_type": "code",
   "execution_count": 4,
   "id": "0f373b7f",
   "metadata": {},
   "outputs": [],
   "source": [
    "# Convertir la columna \"QRESIDUOS_DOM\" a tipo numérico\n",
    "df['QRESIDUOS_DOM'] = df['QRESIDUOS_DOM'].replace(',', '.', regex=True).astype(float)\n"
   ]
  },
  {
   "cell_type": "code",
   "execution_count": 5,
   "id": "0016c5d2",
   "metadata": {},
   "outputs": [],
   "source": [
    "# Seleccionar las columnas que nos interesan en un df\n",
    "df1 = df[['DEPARTAMENTO', 'POB_TOTAL', 'POB_URBANA', 'POB_RURAL', 'QRESIDUOS_DOM']]"
   ]
  },
  {
   "cell_type": "code",
   "execution_count": 6,
   "id": "9debe605",
   "metadata": {},
   "outputs": [],
   "source": [
    "# Agrupar por 'DEPARTAMENTO' y sumar las columnas especificadas en otro df\n",
    "df2 = df1.groupby(['DEPARTAMENTO']).sum().reset_index()"
   ]
  },
  {
   "cell_type": "code",
   "execution_count": 7,
   "id": "50c1c1ce",
   "metadata": {},
   "outputs": [
    {
     "data": {
      "text/html": [
       "<div>\n",
       "<style scoped>\n",
       "    .dataframe tbody tr th:only-of-type {\n",
       "        vertical-align: middle;\n",
       "    }\n",
       "\n",
       "    .dataframe tbody tr th {\n",
       "        vertical-align: top;\n",
       "    }\n",
       "\n",
       "    .dataframe thead th {\n",
       "        text-align: right;\n",
       "    }\n",
       "</style>\n",
       "<table border=\"1\" class=\"dataframe\">\n",
       "  <thead>\n",
       "    <tr style=\"text-align: right;\">\n",
       "      <th></th>\n",
       "      <th>DEPARTAMENTO</th>\n",
       "      <th>POB_TOTAL</th>\n",
       "      <th>POB_URBANA</th>\n",
       "      <th>POB_RURAL</th>\n",
       "      <th>QRESIDUOS_DOM</th>\n",
       "      <th>GPPCT_RESSOL</th>\n",
       "    </tr>\n",
       "  </thead>\n",
       "  <tbody>\n",
       "    <tr>\n",
       "      <th>0</th>\n",
       "      <td>AMAZONAS</td>\n",
       "      <td>3390580</td>\n",
       "      <td>1576025</td>\n",
       "      <td>1814558</td>\n",
       "      <td>296420.41</td>\n",
       "      <td>87</td>\n",
       "    </tr>\n",
       "    <tr>\n",
       "      <th>1</th>\n",
       "      <td>ANCASH</td>\n",
       "      <td>9289989</td>\n",
       "      <td>6327829</td>\n",
       "      <td>2962148</td>\n",
       "      <td>1247800.69</td>\n",
       "      <td>134</td>\n",
       "    </tr>\n",
       "    <tr>\n",
       "      <th>2</th>\n",
       "      <td>APURIMAC</td>\n",
       "      <td>3554220</td>\n",
       "      <td>1836897</td>\n",
       "      <td>1717321</td>\n",
       "      <td>328016.78</td>\n",
       "      <td>92</td>\n",
       "    </tr>\n",
       "    <tr>\n",
       "      <th>3</th>\n",
       "      <td>AREQUIPA</td>\n",
       "      <td>11163317</td>\n",
       "      <td>10347477</td>\n",
       "      <td>815841</td>\n",
       "      <td>1791944.85</td>\n",
       "      <td>160</td>\n",
       "    </tr>\n",
       "    <tr>\n",
       "      <th>4</th>\n",
       "      <td>AYACUCHO</td>\n",
       "      <td>5423041</td>\n",
       "      <td>3467464</td>\n",
       "      <td>1955580</td>\n",
       "      <td>658298.83</td>\n",
       "      <td>121</td>\n",
       "    </tr>\n",
       "    <tr>\n",
       "      <th>5</th>\n",
       "      <td>CAJAMARCA</td>\n",
       "      <td>11909045</td>\n",
       "      <td>4404539</td>\n",
       "      <td>7504505</td>\n",
       "      <td>825747.19</td>\n",
       "      <td>69</td>\n",
       "    </tr>\n",
       "    <tr>\n",
       "      <th>6</th>\n",
       "      <td>CALLAO</td>\n",
       "      <td>8536002</td>\n",
       "      <td>8536002</td>\n",
       "      <td>0</td>\n",
       "      <td>1888954.57</td>\n",
       "      <td>221</td>\n",
       "    </tr>\n",
       "    <tr>\n",
       "      <th>7</th>\n",
       "      <td>CUSCO</td>\n",
       "      <td>10678293</td>\n",
       "      <td>6537659</td>\n",
       "      <td>4140635</td>\n",
       "      <td>1282907.31</td>\n",
       "      <td>120</td>\n",
       "    </tr>\n",
       "    <tr>\n",
       "      <th>8</th>\n",
       "      <td>HUANCAVELICA</td>\n",
       "      <td>3441089</td>\n",
       "      <td>1287135</td>\n",
       "      <td>2153953</td>\n",
       "      <td>209564.86</td>\n",
       "      <td>60</td>\n",
       "    </tr>\n",
       "    <tr>\n",
       "      <th>9</th>\n",
       "      <td>HUANUCO</td>\n",
       "      <td>6494068</td>\n",
       "      <td>3276673</td>\n",
       "      <td>3217393</td>\n",
       "      <td>556896.14</td>\n",
       "      <td>85</td>\n",
       "    </tr>\n",
       "    <tr>\n",
       "      <th>10</th>\n",
       "      <td>ICA</td>\n",
       "      <td>6999781</td>\n",
       "      <td>6393578</td>\n",
       "      <td>606204</td>\n",
       "      <td>1187909.71</td>\n",
       "      <td>169</td>\n",
       "    </tr>\n",
       "    <tr>\n",
       "      <th>11</th>\n",
       "      <td>JUNIN</td>\n",
       "      <td>10828171</td>\n",
       "      <td>7609008</td>\n",
       "      <td>3219163</td>\n",
       "      <td>1439378.68</td>\n",
       "      <td>132</td>\n",
       "    </tr>\n",
       "    <tr>\n",
       "      <th>12</th>\n",
       "      <td>LA LIBERTAD</td>\n",
       "      <td>15445445</td>\n",
       "      <td>12117463</td>\n",
       "      <td>3327976</td>\n",
       "      <td>2309698.82</td>\n",
       "      <td>149</td>\n",
       "    </tr>\n",
       "    <tr>\n",
       "      <th>13</th>\n",
       "      <td>LAMBAYEQUE</td>\n",
       "      <td>10247719</td>\n",
       "      <td>8224250</td>\n",
       "      <td>2023467</td>\n",
       "      <td>1707409.49</td>\n",
       "      <td>166</td>\n",
       "    </tr>\n",
       "    <tr>\n",
       "      <th>14</th>\n",
       "      <td>LIMA</td>\n",
       "      <td>81824529</td>\n",
       "      <td>80528996</td>\n",
       "      <td>1295519</td>\n",
       "      <td>18085603.77</td>\n",
       "      <td>221</td>\n",
       "    </tr>\n",
       "    <tr>\n",
       "      <th>15</th>\n",
       "      <td>LORETO</td>\n",
       "      <td>8246072</td>\n",
       "      <td>5575270</td>\n",
       "      <td>2670805</td>\n",
       "      <td>1243395.61</td>\n",
       "      <td>150</td>\n",
       "    </tr>\n",
       "    <tr>\n",
       "      <th>16</th>\n",
       "      <td>MADRE DE DIOS</td>\n",
       "      <td>1244507</td>\n",
       "      <td>998088</td>\n",
       "      <td>246422</td>\n",
       "      <td>184025.94</td>\n",
       "      <td>147</td>\n",
       "    </tr>\n",
       "    <tr>\n",
       "      <th>17</th>\n",
       "      <td>MOQUEGUA</td>\n",
       "      <td>1488680</td>\n",
       "      <td>1318825</td>\n",
       "      <td>169855</td>\n",
       "      <td>216735.65</td>\n",
       "      <td>145</td>\n",
       "    </tr>\n",
       "    <tr>\n",
       "      <th>18</th>\n",
       "      <td>PASCO</td>\n",
       "      <td>2308194</td>\n",
       "      <td>1460177</td>\n",
       "      <td>848017</td>\n",
       "      <td>216047.21</td>\n",
       "      <td>93</td>\n",
       "    </tr>\n",
       "    <tr>\n",
       "      <th>19</th>\n",
       "      <td>PIURA</td>\n",
       "      <td>15497090</td>\n",
       "      <td>12009342</td>\n",
       "      <td>3487745</td>\n",
       "      <td>2323317.77</td>\n",
       "      <td>149</td>\n",
       "    </tr>\n",
       "    <tr>\n",
       "      <th>20</th>\n",
       "      <td>PUNO</td>\n",
       "      <td>10622989</td>\n",
       "      <td>5811363</td>\n",
       "      <td>4811624</td>\n",
       "      <td>1060439.59</td>\n",
       "      <td>99</td>\n",
       "    </tr>\n",
       "    <tr>\n",
       "      <th>21</th>\n",
       "      <td>SAN MARTIN</td>\n",
       "      <td>6957313</td>\n",
       "      <td>4699092</td>\n",
       "      <td>2258225</td>\n",
       "      <td>984776.77</td>\n",
       "      <td>141</td>\n",
       "    </tr>\n",
       "    <tr>\n",
       "      <th>22</th>\n",
       "      <td>TACNA</td>\n",
       "      <td>2843683</td>\n",
       "      <td>2650099</td>\n",
       "      <td>193586</td>\n",
       "      <td>424297.44</td>\n",
       "      <td>149</td>\n",
       "    </tr>\n",
       "    <tr>\n",
       "      <th>23</th>\n",
       "      <td>TUMBES</td>\n",
       "      <td>1948256</td>\n",
       "      <td>1797840</td>\n",
       "      <td>150417</td>\n",
       "      <td>318537.97</td>\n",
       "      <td>163</td>\n",
       "    </tr>\n",
       "    <tr>\n",
       "      <th>24</th>\n",
       "      <td>UCAYALI</td>\n",
       "      <td>4318792</td>\n",
       "      <td>3371050</td>\n",
       "      <td>947744</td>\n",
       "      <td>770825.10</td>\n",
       "      <td>178</td>\n",
       "    </tr>\n",
       "  </tbody>\n",
       "</table>\n",
       "</div>"
      ],
      "text/plain": [
       "     DEPARTAMENTO  POB_TOTAL  POB_URBANA  POB_RURAL  QRESIDUOS_DOM  \\\n",
       "0        AMAZONAS    3390580     1576025    1814558      296420.41   \n",
       "1          ANCASH    9289989     6327829    2962148     1247800.69   \n",
       "2        APURIMAC    3554220     1836897    1717321      328016.78   \n",
       "3        AREQUIPA   11163317    10347477     815841     1791944.85   \n",
       "4        AYACUCHO    5423041     3467464    1955580      658298.83   \n",
       "5       CAJAMARCA   11909045     4404539    7504505      825747.19   \n",
       "6          CALLAO    8536002     8536002          0     1888954.57   \n",
       "7           CUSCO   10678293     6537659    4140635     1282907.31   \n",
       "8    HUANCAVELICA    3441089     1287135    2153953      209564.86   \n",
       "9         HUANUCO    6494068     3276673    3217393      556896.14   \n",
       "10            ICA    6999781     6393578     606204     1187909.71   \n",
       "11          JUNIN   10828171     7609008    3219163     1439378.68   \n",
       "12    LA LIBERTAD   15445445    12117463    3327976     2309698.82   \n",
       "13     LAMBAYEQUE   10247719     8224250    2023467     1707409.49   \n",
       "14           LIMA   81824529    80528996    1295519    18085603.77   \n",
       "15         LORETO    8246072     5575270    2670805     1243395.61   \n",
       "16  MADRE DE DIOS    1244507      998088     246422      184025.94   \n",
       "17       MOQUEGUA    1488680     1318825     169855      216735.65   \n",
       "18          PASCO    2308194     1460177     848017      216047.21   \n",
       "19          PIURA   15497090    12009342    3487745     2323317.77   \n",
       "20           PUNO   10622989     5811363    4811624     1060439.59   \n",
       "21     SAN MARTIN    6957313     4699092    2258225      984776.77   \n",
       "22          TACNA    2843683     2650099     193586      424297.44   \n",
       "23         TUMBES    1948256     1797840     150417      318537.97   \n",
       "24        UCAYALI    4318792     3371050     947744      770825.10   \n",
       "\n",
       "    GPPCT_RESSOL  \n",
       "0             87  \n",
       "1            134  \n",
       "2             92  \n",
       "3            160  \n",
       "4            121  \n",
       "5             69  \n",
       "6            221  \n",
       "7            120  \n",
       "8             60  \n",
       "9             85  \n",
       "10           169  \n",
       "11           132  \n",
       "12           149  \n",
       "13           166  \n",
       "14           221  \n",
       "15           150  \n",
       "16           147  \n",
       "17           145  \n",
       "18            93  \n",
       "19           149  \n",
       "20            99  \n",
       "21           141  \n",
       "22           149  \n",
       "23           163  \n",
       "24           178  "
      ]
     },
     "execution_count": 7,
     "metadata": {},
     "output_type": "execute_result"
    }
   ],
   "source": [
    "# Calcula las nuevas columnas Genaracion Promedio Per Capita de residuos en kilos \n",
    "df2['GPPCT_RESSOL'] = ((df2['QRESIDUOS_DOM'] / df2['POB_TOTAL']) * 1000).astype(int)\n",
    "df2.head(25)"
   ]
  },
  {
   "cell_type": "code",
   "execution_count": 18,
   "id": "77dca8c0",
   "metadata": {},
   "outputs": [
    {
     "data": {
      "text/html": [
       "<div>\n",
       "<style scoped>\n",
       "    .dataframe tbody tr th:only-of-type {\n",
       "        vertical-align: middle;\n",
       "    }\n",
       "\n",
       "    .dataframe tbody tr th {\n",
       "        vertical-align: top;\n",
       "    }\n",
       "\n",
       "    .dataframe thead th {\n",
       "        text-align: right;\n",
       "    }\n",
       "</style>\n",
       "<table border=\"1\" class=\"dataframe\">\n",
       "  <thead>\n",
       "    <tr style=\"text-align: right;\">\n",
       "      <th></th>\n",
       "      <th>NOMBDEP</th>\n",
       "      <th>COUNT</th>\n",
       "      <th>FIRST_IDDP</th>\n",
       "      <th>HECTARES</th>\n",
       "      <th>geometry</th>\n",
       "    </tr>\n",
       "  </thead>\n",
       "  <tbody>\n",
       "    <tr>\n",
       "      <th>0</th>\n",
       "      <td>AMAZONAS</td>\n",
       "      <td>84</td>\n",
       "      <td>01</td>\n",
       "      <td>3930646.567</td>\n",
       "      <td>POLYGON ((-77.75893 -6.96451, -77.84586 -6.976...</td>\n",
       "    </tr>\n",
       "    <tr>\n",
       "      <th>1</th>\n",
       "      <td>ANCASH</td>\n",
       "      <td>166</td>\n",
       "      <td>02</td>\n",
       "      <td>3596224.600</td>\n",
       "      <td>POLYGON ((-77.31749 -8.53015, -77.28903 -8.589...</td>\n",
       "    </tr>\n",
       "    <tr>\n",
       "      <th>2</th>\n",
       "      <td>APURIMAC</td>\n",
       "      <td>80</td>\n",
       "      <td>03</td>\n",
       "      <td>2111415.170</td>\n",
       "      <td>POLYGON ((-72.47177 -14.66140, -72.57725 -14.6...</td>\n",
       "    </tr>\n",
       "    <tr>\n",
       "      <th>3</th>\n",
       "      <td>AREQUIPA</td>\n",
       "      <td>109</td>\n",
       "      <td>04</td>\n",
       "      <td>6325588.935</td>\n",
       "      <td>POLYGON ((-75.07333 -15.44294, -75.04965 -15.4...</td>\n",
       "    </tr>\n",
       "    <tr>\n",
       "      <th>4</th>\n",
       "      <td>AYACUCHO</td>\n",
       "      <td>111</td>\n",
       "      <td>05</td>\n",
       "      <td>4350381.783</td>\n",
       "      <td>POLYGON ((-74.34595 -12.17374, -74.32187 -12.2...</td>\n",
       "    </tr>\n",
       "  </tbody>\n",
       "</table>\n",
       "</div>"
      ],
      "text/plain": [
       "    NOMBDEP  COUNT FIRST_IDDP     HECTARES  \\\n",
       "0  AMAZONAS     84         01  3930646.567   \n",
       "1    ANCASH    166         02  3596224.600   \n",
       "2  APURIMAC     80         03  2111415.170   \n",
       "3  AREQUIPA    109         04  6325588.935   \n",
       "4  AYACUCHO    111         05  4350381.783   \n",
       "\n",
       "                                            geometry  \n",
       "0  POLYGON ((-77.75893 -6.96451, -77.84586 -6.976...  \n",
       "1  POLYGON ((-77.31749 -8.53015, -77.28903 -8.589...  \n",
       "2  POLYGON ((-72.47177 -14.66140, -72.57725 -14.6...  \n",
       "3  POLYGON ((-75.07333 -15.44294, -75.04965 -15.4...  \n",
       "4  POLYGON ((-74.34595 -12.17374, -74.32187 -12.2...  "
      ]
     },
     "execution_count": 18,
     "metadata": {},
     "output_type": "execute_result"
    }
   ],
   "source": [
    "# Pasar a formato geopandas\n",
    "geodepperu = gpd.read_file(url_geojson)\n",
    "geodepperu.head()"
   ]
  },
  {
   "cell_type": "code",
   "execution_count": 19,
   "id": "a009bdd3",
   "metadata": {},
   "outputs": [],
   "source": [
    "# Unir los dos DataFrames en base a la columna en común\n",
    "resultado = pd.merge(geodepperu, df2, left_on='NOMBDEP', right_on='DEPARTAMENTO')"
   ]
  },
  {
   "cell_type": "code",
   "execution_count": 21,
   "id": "de16604a",
   "metadata": {},
   "outputs": [],
   "source": [
    "# Convertir el resultado df a un GeoDataFrame si no lo es\n",
    "if not isinstance(resultado, gpd.GeoDataFrame):\n",
    "    resultado = gpd.GeoDataFrame(resultado, geometry='geometry')"
   ]
  },
  {
   "cell_type": "code",
   "execution_count": 45,
   "id": "a62ee981",
   "metadata": {},
   "outputs": [
    {
     "data": {
      "image/png": "[encoded data removed]",
      "text/plain": [
       "<Figure size 1500x1500 with 2 Axes>"
      ]
     },
     "metadata": {},
     "output_type": "display_data"
    }
   ],
   "source": [
    "# Graficar mapa de calor\n",
    "fig, ax = plt.subplots(figsize=(15, 15))\n",
    "# Realizar la trama y guardar la referencia a la barra de color\n",
    "cbar = resultado.plot(column='GPPCT_RESSOL', cmap='Blues', edgecolor='gray', legend=True, ax=ax)\n",
    "\n",
    "# Ajustar el título de la leyenda y los ticks de la barra de color\n",
    "cbar_legend = cbar.get_figure().get_axes()[1]\n",
    "cbar_legend.set_ylabel('Kilogramos', fontsize=16)\n",
    "\n",
    "# Aumentar el tamaño de la fuente y poner en negrita los números de la barra de color\n",
    "for label in cbar_legend.get_yticklabels():\n",
    "    label.set_fontsize(14)  # Cambiar el tamaño de la fuente aquí\n",
    "    label.set_fontweight('bold')  # Cambiar a negrita\n",
    "\n",
    "# Ocultar el marco del gráfico\n",
    "for spine in ax.spines.values():\n",
    "    spine.set_visible(False)\n",
    "\n",
    "# Eliminar etiquetas y marcas de los ejes\n",
    "ax.set_xticks([])\n",
    "ax.set_yticks([])\n",
    "ax.set_xticklabels([])\n",
    "ax.set_yticklabels([])\n",
    "\n",
    "# Mostrar gráfico\n",
    "ax.set_title(\"Generación de residuos sólidos domiciliarios per cápita al 2021\", fontsize=16, fontweight='bold')\n",
    "plt.show()\n"
   ]
  },
  {
   "cell_type": "markdown",
   "id": "1470a620",
   "metadata": {},
   "source": [
    "# Gráfico 2"
   ]
  },
  {
   "cell_type": "code",
   "execution_count": 56,
   "id": "5624436f",
   "metadata": {},
   "outputs": [],
   "source": [
    "%matplotlib inline\n",
    "import pandas as pd\n",
    "import numpy as np\n",
    "import matplotlib.pyplot as plt\n",
    "import seaborn as sns\n",
    "import plotly.express as px\n",
    "import plotly.graph_objects as go"
   ]
  },
  {
   "cell_type": "code",
   "execution_count": 57,
   "id": "b6d65003",
   "metadata": {},
   "outputs": [],
   "source": [
    "df = pd.read_csv('Annual generation of household solid waste.csv', encoding='ISO-8859-1', sep=';')"
   ]
  },
  {
   "cell_type": "code",
   "execution_count": 58,
   "id": "fc490156",
   "metadata": {},
   "outputs": [
    {
     "data": {
      "text/html": [
       "<div>\n",
       "<style scoped>\n",
       "    .dataframe tbody tr th:only-of-type {\n",
       "        vertical-align: middle;\n",
       "    }\n",
       "\n",
       "    .dataframe tbody tr th {\n",
       "        vertical-align: top;\n",
       "    }\n",
       "\n",
       "    .dataframe thead th {\n",
       "        text-align: right;\n",
       "    }\n",
       "</style>\n",
       "<table border=\"1\" class=\"dataframe\">\n",
       "  <thead>\n",
       "    <tr style=\"text-align: right;\">\n",
       "      <th></th>\n",
       "      <th>FECHA_CORTE</th>\n",
       "      <th>N_SEC</th>\n",
       "      <th>UBIGEO</th>\n",
       "      <th>REG_NAT</th>\n",
       "      <th>DEPARTAMENTO</th>\n",
       "      <th>PROVINCIA</th>\n",
       "      <th>DISTRITO</th>\n",
       "      <th>POB_TOTAL</th>\n",
       "      <th>POB_URBANA</th>\n",
       "      <th>POB_RURAL</th>\n",
       "      <th>QRESIDUOS_DOM</th>\n",
       "      <th>PERIODO</th>\n",
       "    </tr>\n",
       "  </thead>\n",
       "  <tbody>\n",
       "    <tr>\n",
       "      <th>0</th>\n",
       "      <td>9/01/2023</td>\n",
       "      <td>1</td>\n",
       "      <td>10101</td>\n",
       "      <td>SELVA</td>\n",
       "      <td>AMAZONAS</td>\n",
       "      <td>CHACHAPOYAS</td>\n",
       "      <td>CHACHAPOYAS</td>\n",
       "      <td>28423</td>\n",
       "      <td>27548</td>\n",
       "      <td>875</td>\n",
       "      <td>4857,50</td>\n",
       "      <td>2014</td>\n",
       "    </tr>\n",
       "    <tr>\n",
       "      <th>1</th>\n",
       "      <td>9/01/2023</td>\n",
       "      <td>2</td>\n",
       "      <td>10102</td>\n",
       "      <td>SELVA</td>\n",
       "      <td>AMAZONAS</td>\n",
       "      <td>CHACHAPOYAS</td>\n",
       "      <td>ASUNCION</td>\n",
       "      <td>291</td>\n",
       "      <td>151</td>\n",
       "      <td>140</td>\n",
       "      <td>33,56</td>\n",
       "      <td>2014</td>\n",
       "    </tr>\n",
       "    <tr>\n",
       "      <th>2</th>\n",
       "      <td>9/01/2023</td>\n",
       "      <td>3</td>\n",
       "      <td>10103</td>\n",
       "      <td>SIERRA</td>\n",
       "      <td>AMAZONAS</td>\n",
       "      <td>CHACHAPOYAS</td>\n",
       "      <td>BALSAS</td>\n",
       "      <td>1615</td>\n",
       "      <td>299</td>\n",
       "      <td>1316</td>\n",
       "      <td>48,96</td>\n",
       "      <td>2014</td>\n",
       "    </tr>\n",
       "    <tr>\n",
       "      <th>3</th>\n",
       "      <td>9/01/2023</td>\n",
       "      <td>4</td>\n",
       "      <td>10104</td>\n",
       "      <td>SIERRA</td>\n",
       "      <td>AMAZONAS</td>\n",
       "      <td>CHACHAPOYAS</td>\n",
       "      <td>CHETO</td>\n",
       "      <td>597</td>\n",
       "      <td>388</td>\n",
       "      <td>209</td>\n",
       "      <td>63,59</td>\n",
       "      <td>2014</td>\n",
       "    </tr>\n",
       "    <tr>\n",
       "      <th>4</th>\n",
       "      <td>9/01/2023</td>\n",
       "      <td>5</td>\n",
       "      <td>10105</td>\n",
       "      <td>SIERRA</td>\n",
       "      <td>AMAZONAS</td>\n",
       "      <td>CHACHAPOYAS</td>\n",
       "      <td>CHILIQUIN</td>\n",
       "      <td>737</td>\n",
       "      <td>197</td>\n",
       "      <td>540</td>\n",
       "      <td>32,38</td>\n",
       "      <td>2014</td>\n",
       "    </tr>\n",
       "    <tr>\n",
       "      <th>5</th>\n",
       "      <td>9/01/2023</td>\n",
       "      <td>6</td>\n",
       "      <td>10106</td>\n",
       "      <td>SIERRA</td>\n",
       "      <td>AMAZONAS</td>\n",
       "      <td>CHACHAPOYAS</td>\n",
       "      <td>CHUQUIBAMBA</td>\n",
       "      <td>2096</td>\n",
       "      <td>630</td>\n",
       "      <td>1466</td>\n",
       "      <td>103,25</td>\n",
       "      <td>2014</td>\n",
       "    </tr>\n",
       "    <tr>\n",
       "      <th>6</th>\n",
       "      <td>9/01/2023</td>\n",
       "      <td>7</td>\n",
       "      <td>10107</td>\n",
       "      <td>SELVA</td>\n",
       "      <td>AMAZONAS</td>\n",
       "      <td>CHACHAPOYAS</td>\n",
       "      <td>GRANADA</td>\n",
       "      <td>395</td>\n",
       "      <td>133</td>\n",
       "      <td>262</td>\n",
       "      <td>29,46</td>\n",
       "      <td>2014</td>\n",
       "    </tr>\n",
       "    <tr>\n",
       "      <th>7</th>\n",
       "      <td>9/01/2023</td>\n",
       "      <td>8</td>\n",
       "      <td>10108</td>\n",
       "      <td>SIERRA</td>\n",
       "      <td>AMAZONAS</td>\n",
       "      <td>CHACHAPOYAS</td>\n",
       "      <td>HUANCAS</td>\n",
       "      <td>1240</td>\n",
       "      <td>1231</td>\n",
       "      <td>9</td>\n",
       "      <td>201,84</td>\n",
       "      <td>2014</td>\n",
       "    </tr>\n",
       "    <tr>\n",
       "      <th>8</th>\n",
       "      <td>9/01/2023</td>\n",
       "      <td>9</td>\n",
       "      <td>10109</td>\n",
       "      <td>SELVA</td>\n",
       "      <td>AMAZONAS</td>\n",
       "      <td>CHACHAPOYAS</td>\n",
       "      <td>LA JALCA</td>\n",
       "      <td>5551</td>\n",
       "      <td>2442</td>\n",
       "      <td>3109</td>\n",
       "      <td>542,65</td>\n",
       "      <td>2014</td>\n",
       "    </tr>\n",
       "    <tr>\n",
       "      <th>9</th>\n",
       "      <td>9/01/2023</td>\n",
       "      <td>10</td>\n",
       "      <td>10110</td>\n",
       "      <td>SELVA</td>\n",
       "      <td>AMAZONAS</td>\n",
       "      <td>CHACHAPOYAS</td>\n",
       "      <td>LEIMEBAMBA</td>\n",
       "      <td>4200</td>\n",
       "      <td>1991</td>\n",
       "      <td>2209</td>\n",
       "      <td>442,34</td>\n",
       "      <td>2014</td>\n",
       "    </tr>\n",
       "  </tbody>\n",
       "</table>\n",
       "</div>"
      ],
      "text/plain": [
       "  FECHA_CORTE  N_SEC  UBIGEO REG_NAT DEPARTAMENTO    PROVINCIA     DISTRITO  \\\n",
       "0   9/01/2023      1   10101   SELVA     AMAZONAS  CHACHAPOYAS  CHACHAPOYAS   \n",
       "1   9/01/2023      2   10102   SELVA     AMAZONAS  CHACHAPOYAS     ASUNCION   \n",
       "2   9/01/2023      3   10103  SIERRA     AMAZONAS  CHACHAPOYAS       BALSAS   \n",
       "3   9/01/2023      4   10104  SIERRA     AMAZONAS  CHACHAPOYAS        CHETO   \n",
       "4   9/01/2023      5   10105  SIERRA     AMAZONAS  CHACHAPOYAS    CHILIQUIN   \n",
       "5   9/01/2023      6   10106  SIERRA     AMAZONAS  CHACHAPOYAS  CHUQUIBAMBA   \n",
       "6   9/01/2023      7   10107   SELVA     AMAZONAS  CHACHAPOYAS      GRANADA   \n",
       "7   9/01/2023      8   10108  SIERRA     AMAZONAS  CHACHAPOYAS      HUANCAS   \n",
       "8   9/01/2023      9   10109   SELVA     AMAZONAS  CHACHAPOYAS     LA JALCA   \n",
       "9   9/01/2023     10   10110   SELVA     AMAZONAS  CHACHAPOYAS   LEIMEBAMBA   \n",
       "\n",
       "   POB_TOTAL  POB_URBANA  POB_RURAL QRESIDUOS_DOM  PERIODO  \n",
       "0      28423       27548        875       4857,50     2014  \n",
       "1        291         151        140         33,56     2014  \n",
       "2       1615         299       1316         48,96     2014  \n",
       "3        597         388        209         63,59     2014  \n",
       "4        737         197        540         32,38     2014  \n",
       "5       2096         630       1466        103,25     2014  \n",
       "6        395         133        262         29,46     2014  \n",
       "7       1240        1231          9        201,84     2014  \n",
       "8       5551        2442       3109        542,65     2014  \n",
       "9       4200        1991       2209        442,34     2014  "
      ]
     },
     "execution_count": 58,
     "metadata": {},
     "output_type": "execute_result"
    }
   ],
   "source": [
    "df.head(10) "
   ]
  },
  {
   "cell_type": "code",
   "execution_count": 59,
   "id": "f17d8188",
   "metadata": {},
   "outputs": [],
   "source": [
    "# Convertir la columna \"QRESIDUOS_DOM\" a tipo numérico\n",
    "df['QRESIDUOS_DOM'] = df['QRESIDUOS_DOM'].replace(',', '.', regex=True).astype(float)"
   ]
  },
  {
   "cell_type": "code",
   "execution_count": 60,
   "id": "66ff7a56",
   "metadata": {},
   "outputs": [
    {
     "data": {
      "text/html": [
       "<div>\n",
       "<style scoped>\n",
       "    .dataframe tbody tr th:only-of-type {\n",
       "        vertical-align: middle;\n",
       "    }\n",
       "\n",
       "    .dataframe tbody tr th {\n",
       "        vertical-align: top;\n",
       "    }\n",
       "\n",
       "    .dataframe thead th {\n",
       "        text-align: right;\n",
       "    }\n",
       "</style>\n",
       "<table border=\"1\" class=\"dataframe\">\n",
       "  <thead>\n",
       "    <tr style=\"text-align: right;\">\n",
       "      <th></th>\n",
       "      <th>DEPARTAMENTO</th>\n",
       "      <th>PERIODO</th>\n",
       "      <th>QRESIDUOS_DOM</th>\n",
       "    </tr>\n",
       "  </thead>\n",
       "  <tbody>\n",
       "    <tr>\n",
       "      <th>0</th>\n",
       "      <td>AMAZONAS</td>\n",
       "      <td>2014</td>\n",
       "      <td>4857.50</td>\n",
       "    </tr>\n",
       "    <tr>\n",
       "      <th>1</th>\n",
       "      <td>AMAZONAS</td>\n",
       "      <td>2014</td>\n",
       "      <td>33.56</td>\n",
       "    </tr>\n",
       "    <tr>\n",
       "      <th>2</th>\n",
       "      <td>AMAZONAS</td>\n",
       "      <td>2014</td>\n",
       "      <td>48.96</td>\n",
       "    </tr>\n",
       "    <tr>\n",
       "      <th>3</th>\n",
       "      <td>AMAZONAS</td>\n",
       "      <td>2014</td>\n",
       "      <td>63.59</td>\n",
       "    </tr>\n",
       "    <tr>\n",
       "      <th>4</th>\n",
       "      <td>AMAZONAS</td>\n",
       "      <td>2014</td>\n",
       "      <td>32.38</td>\n",
       "    </tr>\n",
       "  </tbody>\n",
       "</table>\n",
       "</div>"
      ],
      "text/plain": [
       "  DEPARTAMENTO  PERIODO  QRESIDUOS_DOM\n",
       "0     AMAZONAS     2014        4857.50\n",
       "1     AMAZONAS     2014          33.56\n",
       "2     AMAZONAS     2014          48.96\n",
       "3     AMAZONAS     2014          63.59\n",
       "4     AMAZONAS     2014          32.38"
      ]
     },
     "execution_count": 60,
     "metadata": {},
     "output_type": "execute_result"
    }
   ],
   "source": [
    "# Seleccionar las columnas que nos interesan\n",
    "df1 = df[['DEPARTAMENTO', 'PERIODO', 'QRESIDUOS_DOM']]\n",
    "df1.head() "
   ]
  },
  {
   "cell_type": "code",
   "execution_count": 61,
   "id": "0af221a5",
   "metadata": {},
   "outputs": [],
   "source": [
    "# Filtrar datos para omitir el valor \"LIMA\"\n",
    "df1 = df1[df1['DEPARTAMENTO'] != 'LIMA']"
   ]
  },
  {
   "cell_type": "code",
   "execution_count": 62,
   "id": "59310869",
   "metadata": {},
   "outputs": [
    {
     "name": "stdout",
     "output_type": "stream",
     "text": [
      "    DEPARTAMENTO  PERIODO  QRESIDUOS_DOM  KQRESIDUOS_DOM\n",
      "0       AMAZONAS     2014       36687.48              37\n",
      "1       AMAZONAS     2015       35408.14              35\n",
      "2       AMAZONAS     2016       35698.25              36\n",
      "3       AMAZONAS     2017       36003.39              36\n",
      "4       AMAZONAS     2018       38118.39              38\n",
      "..           ...      ...            ...             ...\n",
      "187      UCAYALI     2017       91231.51              91\n",
      "188      UCAYALI     2018      101089.44             101\n",
      "189      UCAYALI     2019      101925.17             102\n",
      "190      UCAYALI     2020      104509.04             105\n",
      "191      UCAYALI     2021      108558.34             109\n",
      "\n",
      "[192 rows x 4 columns]\n"
     ]
    }
   ],
   "source": [
    "# Agrupar por 'DEPARTAMENTO' y 'PERIODO', y sumar las columnas especificadas\n",
    "df2 = df1.groupby(['DEPARTAMENTO', 'PERIODO']).sum().reset_index()\n",
    "# Calcula las nuevas columnas en K miles de toneladas redondeada \n",
    "df2['KQRESIDUOS_DOM'] = (df2['QRESIDUOS_DOM'] / 1000).round().astype(int)\n",
    "print(df2)"
   ]
  },
  {
   "cell_type": "code",
   "execution_count": 66,
   "id": "85137583",
   "metadata": {},
   "outputs": [],
   "source": [
    "# Ordenar DataFrame basado en el valor acumulado en orden descendente\n",
    "df3 = df2.sort_values(by=[\"DEPARTAMENTO\", \"PERIODO\"])  # Ordenar por departamento y periodo\n",
    "df3[\"KQRESIDUOS_DOM_ACUM\"] = df3.groupby(\"DEPARTAMENTO\")[\"KQRESIDUOS_DOM\"].cumsum()\n"
   ]
  },
  {
   "cell_type": "code",
   "execution_count": 64,
   "id": "b8beabc0",
   "metadata": {},
   "outputs": [
    {
     "data": {
      "application/vnd.plotly.v1+json": {
       "config": {
        "plotlyServerURL": "https://plot.ly"
       },
       "data": [
        {
         "alignmentgroup": "True",
         "hovertemplate": "PERIODO=2014<br>=%{x}<br>DEPARTAMENTO=%{y}<extra></extra>",
         "legendgroup": "",
         "marker": {
          "color": "blue",
          "pattern": {
           "shape": ""
          }
         },
         "name": "",
         "offsetgroup": "",
         "orientation": "h",
         "showlegend": false,
         "textposition": "outside",
         "texttemplate": "%{x:,.0f}KTM",
         "type": "bar",
         "x": [
          37,
          135,
          36,
          200,
          69,
          102,
          240,
          172,
          27,
          66,
          127,
          153,
          263,
          185,
          153,
          15,
          23,
          30,
          253,
          147,
          114,
          53,
          34,
          85
         ],
         "xaxis": "x",
         "y": [
          "AMAZONAS",
          "ANCASH",
          "APURIMAC",
          "AREQUIPA",
          "AYACUCHO",
          "CAJAMARCA",
          "CALLAO",
          "CUSCO",
          "HUANCAVELICA",
          "HUANUCO",
          "ICA",
          "JUNIN",
          "LA LIBERTAD",
          "LAMBAYEQUE",
          "LORETO",
          "MADRE DE DIOS",
          "MOQUEGUA",
          "PASCO",
          "PIURA",
          "PUNO",
          "SAN MARTIN",
          "TACNA",
          "TUMBES",
          "UCAYALI"
         ],
         "yaxis": "y"
        }
       ],
       "frames": [
        {
         "data": [
          {
           "alignmentgroup": "True",
           "hovertemplate": "PERIODO=2014<br>=%{x}<br>DEPARTAMENTO=%{y}<extra></extra>",
           "legendgroup": "",
           "marker": {
            "color": "#636efa",
            "pattern": {
             "shape": ""
            }
           },
           "name": "",
           "offsetgroup": "",
           "orientation": "h",
           "showlegend": false,
           "textposition": "auto",
           "type": "bar",
           "x": [
            37,
            135,
            36,
            200,
            69,
            102,
            240,
            172,
            27,
            66,
            127,
            153,
            263,
            185,
            153,
            15,
            23,
            30,
            253,
            147,
            114,
            53,
            34,
            85
           ],
           "xaxis": "x",
           "y": [
            "AMAZONAS",
            "ANCASH",
            "APURIMAC",
            "AREQUIPA",
            "AYACUCHO",
            "CAJAMARCA",
            "CALLAO",
            "CUSCO",
            "HUANCAVELICA",
            "HUANUCO",
            "ICA",
            "JUNIN",
            "LA LIBERTAD",
            "LAMBAYEQUE",
            "LORETO",
            "MADRE DE DIOS",
            "MOQUEGUA",
            "PASCO",
            "PIURA",
            "PUNO",
            "SAN MARTIN",
            "TACNA",
            "TUMBES",
            "UCAYALI"
           ],
           "yaxis": "y"
          }
         ],
         "name": "2014"
        },
        {
         "data": [
          {
           "alignmentgroup": "True",
           "hovertemplate": "PERIODO=2015<br>=%{x}<br>DEPARTAMENTO=%{y}<extra></extra>",
           "legendgroup": "",
           "marker": {
            "color": "#636efa",
            "pattern": {
             "shape": ""
            }
           },
           "name": "",
           "offsetgroup": "",
           "orientation": "h",
           "showlegend": false,
           "textposition": "auto",
           "type": "bar",
           "x": [
            72,
            289,
            72,
            404,
            151,
            206,
            481,
            322,
            54,
            127,
            254,
            321,
            540,
            395,
            303,
            32,
            46,
            55,
            536,
            274,
            219,
            106,
            71,
            173
           ],
           "xaxis": "x",
           "y": [
            "AMAZONAS",
            "ANCASH",
            "APURIMAC",
            "AREQUIPA",
            "AYACUCHO",
            "CAJAMARCA",
            "CALLAO",
            "CUSCO",
            "HUANCAVELICA",
            "HUANUCO",
            "ICA",
            "JUNIN",
            "LA LIBERTAD",
            "LAMBAYEQUE",
            "LORETO",
            "MADRE DE DIOS",
            "MOQUEGUA",
            "PASCO",
            "PIURA",
            "PUNO",
            "SAN MARTIN",
            "TACNA",
            "TUMBES",
            "UCAYALI"
           ],
           "yaxis": "y"
          }
         ],
         "name": "2015"
        },
        {
         "data": [
          {
           "alignmentgroup": "True",
           "hovertemplate": "PERIODO=2016<br>=%{x}<br>DEPARTAMENTO=%{y}<extra></extra>",
           "legendgroup": "",
           "marker": {
            "color": "#636efa",
            "pattern": {
             "shape": ""
            }
           },
           "name": "",
           "offsetgroup": "",
           "orientation": "h",
           "showlegend": false,
           "textposition": "auto",
           "type": "bar",
           "x": [
            108,
            438,
            112,
            613,
            225,
            307,
            705,
            475,
            79,
            187,
            385,
            492,
            806,
            603,
            453,
            51,
            71,
            81,
            811,
            389,
            329,
            157,
            107,
            264
           ],
           "xaxis": "x",
           "y": [
            "AMAZONAS",
            "ANCASH",
            "APURIMAC",
            "AREQUIPA",
            "AYACUCHO",
            "CAJAMARCA",
            "CALLAO",
            "CUSCO",
            "HUANCAVELICA",
            "HUANUCO",
            "ICA",
            "JUNIN",
            "LA LIBERTAD",
            "LAMBAYEQUE",
            "LORETO",
            "MADRE DE DIOS",
            "MOQUEGUA",
            "PASCO",
            "PIURA",
            "PUNO",
            "SAN MARTIN",
            "TACNA",
            "TUMBES",
            "UCAYALI"
           ],
           "yaxis": "y"
          }
         ],
         "name": "2016"
        },
        {
         "data": [
          {
           "alignmentgroup": "True",
           "hovertemplate": "PERIODO=2017<br>=%{x}<br>DEPARTAMENTO=%{y}<extra></extra>",
           "legendgroup": "",
           "marker": {
            "color": "#636efa",
            "pattern": {
             "shape": ""
            }
           },
           "name": "",
           "offsetgroup": "",
           "orientation": "h",
           "showlegend": false,
           "textposition": "auto",
           "type": "bar",
           "x": [
            144,
            584,
            152,
            824,
            307,
            407,
            933,
            632,
            104,
            247,
            517,
            670,
            1078,
            817,
            596,
            71,
            96,
            109,
            1090,
            512,
            439,
            209,
            144,
            355
           ],
           "xaxis": "x",
           "y": [
            "AMAZONAS",
            "ANCASH",
            "APURIMAC",
            "AREQUIPA",
            "AYACUCHO",
            "CAJAMARCA",
            "CALLAO",
            "CUSCO",
            "HUANCAVELICA",
            "HUANUCO",
            "ICA",
            "JUNIN",
            "LA LIBERTAD",
            "LAMBAYEQUE",
            "LORETO",
            "MADRE DE DIOS",
            "MOQUEGUA",
            "PASCO",
            "PIURA",
            "PUNO",
            "SAN MARTIN",
            "TACNA",
            "TUMBES",
            "UCAYALI"
           ],
           "yaxis": "y"
          }
         ],
         "name": "2017"
        },
        {
         "data": [
          {
           "alignmentgroup": "True",
           "hovertemplate": "PERIODO=2018<br>=%{x}<br>DEPARTAMENTO=%{y}<extra></extra>",
           "legendgroup": "",
           "marker": {
            "color": "#636efa",
            "pattern": {
             "shape": ""
            }
           },
           "name": "",
           "offsetgroup": "",
           "orientation": "h",
           "showlegend": false,
           "textposition": "auto",
           "type": "bar",
           "x": [
            182,
            739,
            199,
            1076,
            395,
            513,
            1165,
            792,
            131,
            322,
            673,
            862,
            1377,
            1021,
            743,
            98,
            123,
            138,
            1399,
            634,
            566,
            260,
            181,
            456
           ],
           "xaxis": "x",
           "y": [
            "AMAZONAS",
            "ANCASH",
            "APURIMAC",
            "AREQUIPA",
            "AYACUCHO",
            "CAJAMARCA",
            "CALLAO",
            "CUSCO",
            "HUANCAVELICA",
            "HUANUCO",
            "ICA",
            "JUNIN",
            "LA LIBERTAD",
            "LAMBAYEQUE",
            "LORETO",
            "MADRE DE DIOS",
            "MOQUEGUA",
            "PASCO",
            "PIURA",
            "PUNO",
            "SAN MARTIN",
            "TACNA",
            "TUMBES",
            "UCAYALI"
           ],
           "yaxis": "y"
          }
         ],
         "name": "2018"
        },
        {
         "data": [
          {
           "alignmentgroup": "True",
           "hovertemplate": "PERIODO=2019<br>=%{x}<br>DEPARTAMENTO=%{y}<extra></extra>",
           "legendgroup": "",
           "marker": {
            "color": "#636efa",
            "pattern": {
             "shape": ""
            }
           },
           "name": "",
           "offsetgroup": "",
           "orientation": "h",
           "showlegend": false,
           "textposition": "auto",
           "type": "bar",
           "x": [
            222,
            907,
            242,
            1308,
            482,
            615,
            1387,
            954,
            156,
            401,
            842,
            1052,
            1682,
            1250,
            910,
            126,
            152,
            164,
            1700,
            770,
            702,
            313,
            225,
            558
           ],
           "xaxis": "x",
           "y": [
            "AMAZONAS",
            "ANCASH",
            "APURIMAC",
            "AREQUIPA",
            "AYACUCHO",
            "CAJAMARCA",
            "CALLAO",
            "CUSCO",
            "HUANCAVELICA",
            "HUANUCO",
            "ICA",
            "JUNIN",
            "LA LIBERTAD",
            "LAMBAYEQUE",
            "LORETO",
            "MADRE DE DIOS",
            "MOQUEGUA",
            "PASCO",
            "PIURA",
            "PUNO",
            "SAN MARTIN",
            "TACNA",
            "TUMBES",
            "UCAYALI"
           ],
           "yaxis": "y"
          }
         ],
         "name": "2019"
        },
        {
         "data": [
          {
           "alignmentgroup": "True",
           "hovertemplate": "PERIODO=2020<br>=%{x}<br>DEPARTAMENTO=%{y}<extra></extra>",
           "legendgroup": "",
           "marker": {
            "color": "#636efa",
            "pattern": {
             "shape": ""
            }
           },
           "name": "",
           "offsetgroup": "",
           "orientation": "h",
           "showlegend": false,
           "textposition": "auto",
           "type": "bar",
           "x": [
            262,
            1077,
            284,
            1544,
            570,
            716,
            1614,
            1118,
            181,
            481,
            1013,
            1242,
            1992,
            1481,
            1078,
            154,
            182,
            191,
            2009,
            906,
            840,
            367,
            270,
            663
           ],
           "xaxis": "x",
           "y": [
            "AMAZONAS",
            "ANCASH",
            "APURIMAC",
            "AREQUIPA",
            "AYACUCHO",
            "CAJAMARCA",
            "CALLAO",
            "CUSCO",
            "HUANCAVELICA",
            "HUANUCO",
            "ICA",
            "JUNIN",
            "LA LIBERTAD",
            "LAMBAYEQUE",
            "LORETO",
            "MADRE DE DIOS",
            "MOQUEGUA",
            "PASCO",
            "PIURA",
            "PUNO",
            "SAN MARTIN",
            "TACNA",
            "TUMBES",
            "UCAYALI"
           ],
           "yaxis": "y"
          }
         ],
         "name": "2020"
        },
        {
         "data": [
          {
           "alignmentgroup": "True",
           "hovertemplate": "PERIODO=2021<br>=%{x}<br>DEPARTAMENTO=%{y}<extra></extra>",
           "legendgroup": "",
           "marker": {
            "color": "#636efa",
            "pattern": {
             "shape": ""
            }
           },
           "name": "",
           "offsetgroup": "",
           "orientation": "h",
           "showlegend": false,
           "textposition": "auto",
           "type": "bar",
           "x": [
            297,
            1246,
            328,
            1793,
            658,
            826,
            1889,
            1283,
            210,
            557,
            1187,
            1439,
            2310,
            1708,
            1244,
            185,
            217,
            217,
            2324,
            1060,
            984,
            424,
            318,
            772
           ],
           "xaxis": "x",
           "y": [
            "AMAZONAS",
            "ANCASH",
            "APURIMAC",
            "AREQUIPA",
            "AYACUCHO",
            "CAJAMARCA",
            "CALLAO",
            "CUSCO",
            "HUANCAVELICA",
            "HUANUCO",
            "ICA",
            "JUNIN",
            "LA LIBERTAD",
            "LAMBAYEQUE",
            "LORETO",
            "MADRE DE DIOS",
            "MOQUEGUA",
            "PASCO",
            "PIURA",
            "PUNO",
            "SAN MARTIN",
            "TACNA",
            "TUMBES",
            "UCAYALI"
           ],
           "yaxis": "y"
          }
         ],
         "name": "2021"
        }
       ],
       "layout": {
        "barmode": "relative",
        "height": 900,
        "legend": {
         "tracegroupgap": 0
        },
        "margin": {
         "t": 60
        },
        "showlegend": false,
        "sliders": [
         {
          "active": 0,
          "currentvalue": {
           "prefix": "PERIODO="
          },
          "len": 0.9,
          "pad": {
           "b": 10,
           "t": 60
          },
          "steps": [
           {
            "args": [
             [
              "2014"
             ],
             {
              "frame": {
               "duration": 0,
               "redraw": true
              },
              "fromcurrent": true,
              "mode": "immediate",
              "transition": {
               "duration": 0,
               "easing": "linear"
              }
             }
            ],
            "label": "2014",
            "method": "animate"
           },
           {
            "args": [
             [
              "2015"
             ],
             {
              "frame": {
               "duration": 0,
               "redraw": true
              },
              "fromcurrent": true,
              "mode": "immediate",
              "transition": {
               "duration": 0,
               "easing": "linear"
              }
             }
            ],
            "label": "2015",
            "method": "animate"
           },
           {
            "args": [
             [
              "2016"
             ],
             {
              "frame": {
               "duration": 0,
               "redraw": true
              },
              "fromcurrent": true,
              "mode": "immediate",
              "transition": {
               "duration": 0,
               "easing": "linear"
              }
             }
            ],
            "label": "2016",
            "method": "animate"
           },
           {
            "args": [
             [
              "2017"
             ],
             {
              "frame": {
               "duration": 0,
               "redraw": true
              },
              "fromcurrent": true,
              "mode": "immediate",
              "transition": {
               "duration": 0,
               "easing": "linear"
              }
             }
            ],
            "label": "2017",
            "method": "animate"
           },
           {
            "args": [
             [
              "2018"
             ],
             {
              "frame": {
               "duration": 0,
               "redraw": true
              },
              "fromcurrent": true,
              "mode": "immediate",
              "transition": {
               "duration": 0,
               "easing": "linear"
              }
             }
            ],
            "label": "2018",
            "method": "animate"
           },
           {
            "args": [
             [
              "2019"
             ],
             {
              "frame": {
               "duration": 0,
               "redraw": true
              },
              "fromcurrent": true,
              "mode": "immediate",
              "transition": {
               "duration": 0,
               "easing": "linear"
              }
             }
            ],
            "label": "2019",
            "method": "animate"
           },
           {
            "args": [
             [
              "2020"
             ],
             {
              "frame": {
               "duration": 0,
               "redraw": true
              },
              "fromcurrent": true,
              "mode": "immediate",
              "transition": {
               "duration": 0,
               "easing": "linear"
              }
             }
            ],
            "label": "2020",
            "method": "animate"
           },
           {
            "args": [
             [
              "2021"
             ],
             {
              "frame": {
               "duration": 0,
               "redraw": true
              },
              "fromcurrent": true,
              "mode": "immediate",
              "transition": {
               "duration": 0,
               "easing": "linear"
              }
             }
            ],
            "label": "2021",
            "method": "animate"
           }
          ],
          "x": 0.1,
          "xanchor": "left",
          "y": 0,
          "yanchor": "top"
         }
        ],
        "template": {
         "data": {
          "bar": [
           {
            "error_x": {
             "color": "#2a3f5f"
            },
            "error_y": {
             "color": "#2a3f5f"
            },
            "marker": {
             "line": {
              "color": "#E5ECF6",
              "width": 0.5
             },
             "pattern": {
              "fillmode": "overlay",
              "size": 10,
              "solidity": 0.2
             }
            },
            "type": "bar"
           }
          ],
          "barpolar": [
           {
            "marker": {
             "line": {
              "color": "#E5ECF6",
              "width": 0.5
             },
             "pattern": {
              "fillmode": "overlay",
              "size": 10,
              "solidity": 0.2
             }
            },
            "type": "barpolar"
           }
          ],
          "carpet": [
           {
            "aaxis": {
             "endlinecolor": "#2a3f5f",
             "gridcolor": "white",
             "linecolor": "white",
             "minorgridcolor": "white",
             "startlinecolor": "#2a3f5f"
            },
            "baxis": {
             "endlinecolor": "#2a3f5f",
             "gridcolor": "white",
             "linecolor": "white",
             "minorgridcolor": "white",
             "startlinecolor": "#2a3f5f"
            },
            "type": "carpet"
           }
          ],
          "choropleth": [
           {
            "colorbar": {
             "outlinewidth": 0,
             "ticks": ""
            },
            "type": "choropleth"
           }
          ],
          "contour": [
           {
            "colorbar": {
             "outlinewidth": 0,
             "ticks": ""
            },
            "colorscale": [
             [
              0,
              "#0d0887"
             ],
             [
              0.1111111111111111,
              "#46039f"
             ],
             [
              0.2222222222222222,
              "#7201a8"
             ],
             [
              0.3333333333333333,
              "#9c179e"
             ],
             [
              0.4444444444444444,
              "#bd3786"
             ],
             [
              0.5555555555555556,
              "#d8576b"
             ],
             [
              0.6666666666666666,
              "#ed7953"
             ],
             [
              0.7777777777777778,
              "#fb9f3a"
             ],
             [
              0.8888888888888888,
              "#fdca26"
             ],
             [
              1,
              "#f0f921"
             ]
            ],
            "type": "contour"
           }
          ],
          "contourcarpet": [
           {
            "colorbar": {
             "outlinewidth": 0,
             "ticks": ""
            },
            "type": "contourcarpet"
           }
          ],
          "heatmap": [
           {
            "colorbar": {
             "outlinewidth": 0,
             "ticks": ""
            },
            "colorscale": [
             [
              0,
              "#0d0887"
             ],
             [
              0.1111111111111111,
              "#46039f"
             ],
             [
              0.2222222222222222,
              "#7201a8"
             ],
             [
              0.3333333333333333,
              "#9c179e"
             ],
             [
              0.4444444444444444,
              "#bd3786"
             ],
             [
              0.5555555555555556,
              "#d8576b"
             ],
             [
              0.6666666666666666,
              "#ed7953"
             ],
             [
              0.7777777777777778,
              "#fb9f3a"
             ],
             [
              0.8888888888888888,
              "#fdca26"
             ],
             [
              1,
              "#f0f921"
             ]
            ],
            "type": "heatmap"
           }
          ],
          "heatmapgl": [
           {
            "colorbar": {
             "outlinewidth": 0,
             "ticks": ""
            },
            "colorscale": [
             [
              0,
              "#0d0887"
             ],
             [
              0.1111111111111111,
              "#46039f"
             ],
             [
              0.2222222222222222,
              "#7201a8"
             ],
             [
              0.3333333333333333,
              "#9c179e"
             ],
             [
              0.4444444444444444,
              "#bd3786"
             ],
             [
              0.5555555555555556,
              "#d8576b"
             ],
             [
              0.6666666666666666,
              "#ed7953"
             ],
             [
              0.7777777777777778,
              "#fb9f3a"
             ],
             [
              0.8888888888888888,
              "#fdca26"
             ],
             [
              1,
              "#f0f921"
             ]
            ],
            "type": "heatmapgl"
           }
          ],
          "histogram": [
           {
            "marker": {
             "pattern": {
              "fillmode": "overlay",
              "size": 10,
              "solidity": 0.2
             }
            },
            "type": "histogram"
           }
          ],
          "histogram2d": [
           {
            "colorbar": {
             "outlinewidth": 0,
             "ticks": ""
            },
            "colorscale": [
             [
              0,
              "#0d0887"
             ],
             [
              0.1111111111111111,
              "#46039f"
             ],
             [
              0.2222222222222222,
              "#7201a8"
             ],
             [
              0.3333333333333333,
              "#9c179e"
             ],
             [
              0.4444444444444444,
              "#bd3786"
             ],
             [
              0.5555555555555556,
              "#d8576b"
             ],
             [
              0.6666666666666666,
              "#ed7953"
             ],
             [
              0.7777777777777778,
              "#fb9f3a"
             ],
             [
              0.8888888888888888,
              "#fdca26"
             ],
             [
              1,
              "#f0f921"
             ]
            ],
            "type": "histogram2d"
           }
          ],
          "histogram2dcontour": [
           {
            "colorbar": {
             "outlinewidth": 0,
             "ticks": ""
            },
            "colorscale": [
             [
              0,
              "#0d0887"
             ],
             [
              0.1111111111111111,
              "#46039f"
             ],
             [
              0.2222222222222222,
              "#7201a8"
             ],
             [
              0.3333333333333333,
              "#9c179e"
             ],
             [
              0.4444444444444444,
              "#bd3786"
             ],
             [
              0.5555555555555556,
              "#d8576b"
             ],
             [
              0.6666666666666666,
              "#ed7953"
             ],
             [
              0.7777777777777778,
              "#fb9f3a"
             ],
             [
              0.8888888888888888,
              "#fdca26"
             ],
             [
              1,
              "#f0f921"
             ]
            ],
            "type": "histogram2dcontour"
           }
          ],
          "mesh3d": [
           {
            "colorbar": {
             "outlinewidth": 0,
             "ticks": ""
            },
            "type": "mesh3d"
           }
          ],
          "parcoords": [
           {
            "line": {
             "colorbar": {
              "outlinewidth": 0,
              "ticks": ""
             }
            },
            "type": "parcoords"
           }
          ],
          "pie": [
           {
            "automargin": true,
            "type": "pie"
           }
          ],
          "scatter": [
           {
            "fillpattern": {
             "fillmode": "overlay",
             "size": 10,
             "solidity": 0.2
            },
            "type": "scatter"
           }
          ],
          "scatter3d": [
           {
            "line": {
             "colorbar": {
              "outlinewidth": 0,
              "ticks": ""
             }
            },
            "marker": {
             "colorbar": {
              "outlinewidth": 0,
              "ticks": ""
             }
            },
            "type": "scatter3d"
           }
          ],
          "scattercarpet": [
           {
            "marker": {
             "colorbar": {
              "outlinewidth": 0,
              "ticks": ""
             }
            },
            "type": "scattercarpet"
           }
          ],
          "scattergeo": [
           {
            "marker": {
             "colorbar": {
              "outlinewidth": 0,
              "ticks": ""
             }
            },
            "type": "scattergeo"
           }
          ],
          "scattergl": [
           {
            "marker": {
             "colorbar": {
              "outlinewidth": 0,
              "ticks": ""
             }
            },
            "type": "scattergl"
           }
          ],
          "scattermapbox": [
           {
            "marker": {
             "colorbar": {
              "outlinewidth": 0,
              "ticks": ""
             }
            },
            "type": "scattermapbox"
           }
          ],
          "scatterpolar": [
           {
            "marker": {
             "colorbar": {
              "outlinewidth": 0,
              "ticks": ""
             }
            },
            "type": "scatterpolar"
           }
          ],
          "scatterpolargl": [
           {
            "marker": {
             "colorbar": {
              "outlinewidth": 0,
              "ticks": ""
             }
            },
            "type": "scatterpolargl"
           }
          ],
          "scatterternary": [
           {
            "marker": {
             "colorbar": {
              "outlinewidth": 0,
              "ticks": ""
             }
            },
            "type": "scatterternary"
           }
          ],
          "surface": [
           {
            "colorbar": {
             "outlinewidth": 0,
             "ticks": ""
            },
            "colorscale": [
             [
              0,
              "#0d0887"
             ],
             [
              0.1111111111111111,
              "#46039f"
             ],
             [
              0.2222222222222222,
              "#7201a8"
             ],
             [
              0.3333333333333333,
              "#9c179e"
             ],
             [
              0.4444444444444444,
              "#bd3786"
             ],
             [
              0.5555555555555556,
              "#d8576b"
             ],
             [
              0.6666666666666666,
              "#ed7953"
             ],
             [
              0.7777777777777778,
              "#fb9f3a"
             ],
             [
              0.8888888888888888,
              "#fdca26"
             ],
             [
              1,
              "#f0f921"
             ]
            ],
            "type": "surface"
           }
          ],
          "table": [
           {
            "cells": {
             "fill": {
              "color": "#EBF0F8"
             },
             "line": {
              "color": "white"
             }
            },
            "header": {
             "fill": {
              "color": "#C8D4E3"
             },
             "line": {
              "color": "white"
             }
            },
            "type": "table"
           }
          ]
         },
         "layout": {
          "annotationdefaults": {
           "arrowcolor": "#2a3f5f",
           "arrowhead": 0,
           "arrowwidth": 1
          },
          "autotypenumbers": "strict",
          "coloraxis": {
           "colorbar": {
            "outlinewidth": 0,
            "ticks": ""
           }
          },
          "colorscale": {
           "diverging": [
            [
             0,
             "#8e0152"
            ],
            [
             0.1,
             "#c51b7d"
            ],
            [
             0.2,
             "#de77ae"
            ],
            [
             0.3,
             "#f1b6da"
            ],
            [
             0.4,
             "#fde0ef"
            ],
            [
             0.5,
             "#f7f7f7"
            ],
            [
             0.6,
             "#e6f5d0"
            ],
            [
             0.7,
             "#b8e186"
            ],
            [
             0.8,
             "#7fbc41"
            ],
            [
             0.9,
             "#4d9221"
            ],
            [
             1,
             "#276419"
            ]
           ],
           "sequential": [
            [
             0,
             "#0d0887"
            ],
            [
             0.1111111111111111,
             "#46039f"
            ],
            [
             0.2222222222222222,
             "#7201a8"
            ],
            [
             0.3333333333333333,
             "#9c179e"
            ],
            [
             0.4444444444444444,
             "#bd3786"
            ],
            [
             0.5555555555555556,
             "#d8576b"
            ],
            [
             0.6666666666666666,
             "#ed7953"
            ],
            [
             0.7777777777777778,
             "#fb9f3a"
            ],
            [
             0.8888888888888888,
             "#fdca26"
            ],
            [
             1,
             "#f0f921"
            ]
           ],
           "sequentialminus": [
            [
             0,
             "#0d0887"
            ],
            [
             0.1111111111111111,
             "#46039f"
            ],
            [
             0.2222222222222222,
             "#7201a8"
            ],
            [
             0.3333333333333333,
             "#9c179e"
            ],
            [
             0.4444444444444444,
             "#bd3786"
            ],
            [
             0.5555555555555556,
             "#d8576b"
            ],
            [
             0.6666666666666666,
             "#ed7953"
            ],
            [
             0.7777777777777778,
             "#fb9f3a"
            ],
            [
             0.8888888888888888,
             "#fdca26"
            ],
            [
             1,
             "#f0f921"
            ]
           ]
          },
          "colorway": [
           "#636efa",
           "#EF553B",
           "#00cc96",
           "#ab63fa",
           "#FFA15A",
           "#19d3f3",
           "#FF6692",
           "#B6E880",
           "#FF97FF",
           "#FECB52"
          ],
          "font": {
           "color": "#2a3f5f"
          },
          "geo": {
           "bgcolor": "white",
           "lakecolor": "white",
           "landcolor": "#E5ECF6",
           "showlakes": true,
           "showland": true,
           "subunitcolor": "white"
          },
          "hoverlabel": {
           "align": "left"
          },
          "hovermode": "closest",
          "mapbox": {
           "style": "light"
          },
          "paper_bgcolor": "white",
          "plot_bgcolor": "#E5ECF6",
          "polar": {
           "angularaxis": {
            "gridcolor": "white",
            "linecolor": "white",
            "ticks": ""
           },
           "bgcolor": "#E5ECF6",
           "radialaxis": {
            "gridcolor": "white",
            "linecolor": "white",
            "ticks": ""
           }
          },
          "scene": {
           "xaxis": {
            "backgroundcolor": "#E5ECF6",
            "gridcolor": "white",
            "gridwidth": 2,
            "linecolor": "white",
            "showbackground": true,
            "ticks": "",
            "zerolinecolor": "white"
           },
           "yaxis": {
            "backgroundcolor": "#E5ECF6",
            "gridcolor": "white",
            "gridwidth": 2,
            "linecolor": "white",
            "showbackground": true,
            "ticks": "",
            "zerolinecolor": "white"
           },
           "zaxis": {
            "backgroundcolor": "#E5ECF6",
            "gridcolor": "white",
            "gridwidth": 2,
            "linecolor": "white",
            "showbackground": true,
            "ticks": "",
            "zerolinecolor": "white"
           }
          },
          "shapedefaults": {
           "line": {
            "color": "#2a3f5f"
           }
          },
          "ternary": {
           "aaxis": {
            "gridcolor": "white",
            "linecolor": "white",
            "ticks": ""
           },
           "baxis": {
            "gridcolor": "white",
            "linecolor": "white",
            "ticks": ""
           },
           "bgcolor": "#E5ECF6",
           "caxis": {
            "gridcolor": "white",
            "linecolor": "white",
            "ticks": ""
           }
          },
          "title": {
           "x": 0.05
          },
          "xaxis": {
           "automargin": true,
           "gridcolor": "white",
           "linecolor": "white",
           "ticks": "",
           "title": {
            "standoff": 15
           },
           "zerolinecolor": "white",
           "zerolinewidth": 2
          },
          "yaxis": {
           "automargin": true,
           "gridcolor": "white",
           "linecolor": "white",
           "ticks": "",
           "title": {
            "standoff": 15
           },
           "zerolinecolor": "white",
           "zerolinewidth": 2
          }
         }
        },
        "title": {
         "text": "Generación de residuos sólidos domiciliarios acumulados 2014-2021<br><span style='color: blue;'>Excluye Lima con 18,084 KTM(Miles de Toneladas Métricas)</span>",
         "x": 0.5,
         "xanchor": "center",
         "y": 0.97,
         "yanchor": "top"
        },
        "updatemenus": [
         {
          "buttons": [
           {
            "args": [
             null,
             {
              "frame": {
               "duration": 500,
               "redraw": true
              },
              "fromcurrent": true,
              "mode": "immediate",
              "transition": {
               "duration": 500,
               "easing": "linear"
              }
             }
            ],
            "label": "&#9654;",
            "method": "animate"
           },
           {
            "args": [
             [
              null
             ],
             {
              "frame": {
               "duration": 0,
               "redraw": true
              },
              "fromcurrent": true,
              "mode": "immediate",
              "transition": {
               "duration": 0,
               "easing": "linear"
              }
             }
            ],
            "label": "&#9724;",
            "method": "animate"
           }
          ],
          "direction": "left",
          "pad": {
           "r": 10,
           "t": 70
          },
          "showactive": false,
          "type": "buttons",
          "x": 0.1,
          "xanchor": "right",
          "y": 0,
          "yanchor": "top"
         }
        ],
        "xaxis": {
         "anchor": "y",
         "domain": [
          0,
          1
         ],
         "range": [
          5,
          2334
         ],
         "showgrid": false,
         "showticklabels": false,
         "title": {
          "text": ""
         }
        },
        "yaxis": {
         "anchor": "x",
         "categoryorder": "total ascending",
         "domain": [
          0,
          1
         ],
         "showgrid": false,
         "title": {
          "text": ""
         }
        }
       }
      },
      "text/html": [
       "<div>                            <div id=\"017a5e7c-be13-40ed-9417-8060633eede2\" class=\"plotly-graph-div\" style=\"height:900px; width:100%;\"></div>            <script type=\"text/javascript\">                require([\"plotly\"], function(Plotly) {                    window.PLOTLYENV=window.PLOTLYENV || {};                                    if (document.getElementById(\"017a5e7c-be13-40ed-9417-8060633eede2\")) {                    Plotly.newPlot(                        \"017a5e7c-be13-40ed-9417-8060633eede2\",                        [{\"alignmentgroup\":\"True\",\"hovertemplate\":\"PERIODO=2014\\u003cbr\\u003e=%{x}\\u003cbr\\u003eDEPARTAMENTO=%{y}\\u003cextra\\u003e\\u003c\\u002fextra\\u003e\",\"legendgroup\":\"\",\"marker\":{\"color\":\"blue\",\"pattern\":{\"shape\":\"\"}},\"name\":\"\",\"offsetgroup\":\"\",\"orientation\":\"h\",\"showlegend\":false,\"textposition\":\"outside\",\"x\":[37,135,36,200,69,102,240,172,27,66,127,153,263,185,153,15,23,30,253,147,114,53,34,85],\"xaxis\":\"x\",\"y\":[\"AMAZONAS\",\"ANCASH\",\"APURIMAC\",\"AREQUIPA\",\"AYACUCHO\",\"CAJAMARCA\",\"CALLAO\",\"CUSCO\",\"HUANCAVELICA\",\"HUANUCO\",\"ICA\",\"JUNIN\",\"LA LIBERTAD\",\"LAMBAYEQUE\",\"LORETO\",\"MADRE DE DIOS\",\"MOQUEGUA\",\"PASCO\",\"PIURA\",\"PUNO\",\"SAN MARTIN\",\"TACNA\",\"TUMBES\",\"UCAYALI\"],\"yaxis\":\"y\",\"type\":\"bar\",\"texttemplate\":\"%{x:,.0f}KTM\"}],                        {\"template\":{\"data\":{\"histogram2dcontour\":[{\"type\":\"histogram2dcontour\",\"colorbar\":{\"outlinewidth\":0,\"ticks\":\"\"},\"colorscale\":[[0.0,\"#0d0887\"],[0.1111111111111111,\"#46039f\"],[0.2222222222222222,\"#7201a8\"],[0.3333333333333333,\"#9c179e\"],[0.4444444444444444,\"#bd3786\"],[0.5555555555555556,\"#d8576b\"],[0.6666666666666666,\"#ed7953\"],[0.7777777777777778,\"#fb9f3a\"],[0.8888888888888888,\"#fdca26\"],[1.0,\"#f0f921\"]]}],\"choropleth\":[{\"type\":\"choropleth\",\"colorbar\":{\"outlinewidth\":0,\"ticks\":\"\"}}],\"histogram2d\":[{\"type\":\"histogram2d\",\"colorbar\":{\"outlinewidth\":0,\"ticks\":\"\"},\"colorscale\":[[0.0,\"#0d0887\"],[0.1111111111111111,\"#46039f\"],[0.2222222222222222,\"#7201a8\"],[0.3333333333333333,\"#9c179e\"],[0.4444444444444444,\"#bd3786\"],[0.5555555555555556,\"#d8576b\"],[0.6666666666666666,\"#ed7953\"],[0.7777777777777778,\"#fb9f3a\"],[0.8888888888888888,\"#fdca26\"],[1.0,\"#f0f921\"]]}],\"heatmap\":[{\"type\":\"heatmap\",\"colorbar\":{\"outlinewidth\":0,\"ticks\":\"\"},\"colorscale\":[[0.0,\"#0d0887\"],[0.1111111111111111,\"#46039f\"],[0.2222222222222222,\"#7201a8\"],[0.3333333333333333,\"#9c179e\"],[0.4444444444444444,\"#bd3786\"],[0.5555555555555556,\"#d8576b\"],[0.6666666666666666,\"#ed7953\"],[0.7777777777777778,\"#fb9f3a\"],[0.8888888888888888,\"#fdca26\"],[1.0,\"#f0f921\"]]}],\"heatmapgl\":[{\"type\":\"heatmapgl\",\"colorbar\":{\"outlinewidth\":0,\"ticks\":\"\"},\"colorscale\":[[0.0,\"#0d0887\"],[0.1111111111111111,\"#46039f\"],[0.2222222222222222,\"#7201a8\"],[0.3333333333333333,\"#9c179e\"],[0.4444444444444444,\"#bd3786\"],[0.5555555555555556,\"#d8576b\"],[0.6666666666666666,\"#ed7953\"],[0.7777777777777778,\"#fb9f3a\"],[0.8888888888888888,\"#fdca26\"],[1.0,\"#f0f921\"]]}],\"contourcarpet\":[{\"type\":\"contourcarpet\",\"colorbar\":{\"outlinewidth\":0,\"ticks\":\"\"}}],\"contour\":[{\"type\":\"contour\",\"colorbar\":{\"outlinewidth\":0,\"ticks\":\"\"},\"colorscale\":[[0.0,\"#0d0887\"],[0.1111111111111111,\"#46039f\"],[0.2222222222222222,\"#7201a8\"],[0.3333333333333333,\"#9c179e\"],[0.4444444444444444,\"#bd3786\"],[0.5555555555555556,\"#d8576b\"],[0.6666666666666666,\"#ed7953\"],[0.7777777777777778,\"#fb9f3a\"],[0.8888888888888888,\"#fdca26\"],[1.0,\"#f0f921\"]]}],\"surface\":[{\"type\":\"surface\",\"colorbar\":{\"outlinewidth\":0,\"ticks\":\"\"},\"colorscale\":[[0.0,\"#0d0887\"],[0.1111111111111111,\"#46039f\"],[0.2222222222222222,\"#7201a8\"],[0.3333333333333333,\"#9c179e\"],[0.4444444444444444,\"#bd3786\"],[0.5555555555555556,\"#d8576b\"],[0.6666666666666666,\"#ed7953\"],[0.7777777777777778,\"#fb9f3a\"],[0.8888888888888888,\"#fdca26\"],[1.0,\"#f0f921\"]]}],\"mesh3d\":[{\"type\":\"mesh3d\",\"colorbar\":{\"outlinewidth\":0,\"ticks\":\"\"}}],\"scatter\":[{\"fillpattern\":{\"fillmode\":\"overlay\",\"size\":10,\"solidity\":0.2},\"type\":\"scatter\"}],\"parcoords\":[{\"type\":\"parcoords\",\"line\":{\"colorbar\":{\"outlinewidth\":0,\"ticks\":\"\"}}}],\"scatterpolargl\":[{\"type\":\"scatterpolargl\",\"marker\":{\"colorbar\":{\"outlinewidth\":0,\"ticks\":\"\"}}}],\"bar\":[{\"error_x\":{\"color\":\"#2a3f5f\"},\"error_y\":{\"color\":\"#2a3f5f\"},\"marker\":{\"line\":{\"color\":\"#E5ECF6\",\"width\":0.5},\"pattern\":{\"fillmode\":\"overlay\",\"size\":10,\"solidity\":0.2}},\"type\":\"bar\"}],\"scattergeo\":[{\"type\":\"scattergeo\",\"marker\":{\"colorbar\":{\"outlinewidth\":0,\"ticks\":\"\"}}}],\"scatterpolar\":[{\"type\":\"scatterpolar\",\"marker\":{\"colorbar\":{\"outlinewidth\":0,\"ticks\":\"\"}}}],\"histogram\":[{\"marker\":{\"pattern\":{\"fillmode\":\"overlay\",\"size\":10,\"solidity\":0.2}},\"type\":\"histogram\"}],\"scattergl\":[{\"type\":\"scattergl\",\"marker\":{\"colorbar\":{\"outlinewidth\":0,\"ticks\":\"\"}}}],\"scatter3d\":[{\"type\":\"scatter3d\",\"line\":{\"colorbar\":{\"outlinewidth\":0,\"ticks\":\"\"}},\"marker\":{\"colorbar\":{\"outlinewidth\":0,\"ticks\":\"\"}}}],\"scattermapbox\":[{\"type\":\"scattermapbox\",\"marker\":{\"colorbar\":{\"outlinewidth\":0,\"ticks\":\"\"}}}],\"scatterternary\":[{\"type\":\"scatterternary\",\"marker\":{\"colorbar\":{\"outlinewidth\":0,\"ticks\":\"\"}}}],\"scattercarpet\":[{\"type\":\"scattercarpet\",\"marker\":{\"colorbar\":{\"outlinewidth\":0,\"ticks\":\"\"}}}],\"carpet\":[{\"aaxis\":{\"endlinecolor\":\"#2a3f5f\",\"gridcolor\":\"white\",\"linecolor\":\"white\",\"minorgridcolor\":\"white\",\"startlinecolor\":\"#2a3f5f\"},\"baxis\":{\"endlinecolor\":\"#2a3f5f\",\"gridcolor\":\"white\",\"linecolor\":\"white\",\"minorgridcolor\":\"white\",\"startlinecolor\":\"#2a3f5f\"},\"type\":\"carpet\"}],\"table\":[{\"cells\":{\"fill\":{\"color\":\"#EBF0F8\"},\"line\":{\"color\":\"white\"}},\"header\":{\"fill\":{\"color\":\"#C8D4E3\"},\"line\":{\"color\":\"white\"}},\"type\":\"table\"}],\"barpolar\":[{\"marker\":{\"line\":{\"color\":\"#E5ECF6\",\"width\":0.5},\"pattern\":{\"fillmode\":\"overlay\",\"size\":10,\"solidity\":0.2}},\"type\":\"barpolar\"}],\"pie\":[{\"automargin\":true,\"type\":\"pie\"}]},\"layout\":{\"autotypenumbers\":\"strict\",\"colorway\":[\"#636efa\",\"#EF553B\",\"#00cc96\",\"#ab63fa\",\"#FFA15A\",\"#19d3f3\",\"#FF6692\",\"#B6E880\",\"#FF97FF\",\"#FECB52\"],\"font\":{\"color\":\"#2a3f5f\"},\"hovermode\":\"closest\",\"hoverlabel\":{\"align\":\"left\"},\"paper_bgcolor\":\"white\",\"plot_bgcolor\":\"#E5ECF6\",\"polar\":{\"bgcolor\":\"#E5ECF6\",\"angularaxis\":{\"gridcolor\":\"white\",\"linecolor\":\"white\",\"ticks\":\"\"},\"radialaxis\":{\"gridcolor\":\"white\",\"linecolor\":\"white\",\"ticks\":\"\"}},\"ternary\":{\"bgcolor\":\"#E5ECF6\",\"aaxis\":{\"gridcolor\":\"white\",\"linecolor\":\"white\",\"ticks\":\"\"},\"baxis\":{\"gridcolor\":\"white\",\"linecolor\":\"white\",\"ticks\":\"\"},\"caxis\":{\"gridcolor\":\"white\",\"linecolor\":\"white\",\"ticks\":\"\"}},\"coloraxis\":{\"colorbar\":{\"outlinewidth\":0,\"ticks\":\"\"}},\"colorscale\":{\"sequential\":[[0.0,\"#0d0887\"],[0.1111111111111111,\"#46039f\"],[0.2222222222222222,\"#7201a8\"],[0.3333333333333333,\"#9c179e\"],[0.4444444444444444,\"#bd3786\"],[0.5555555555555556,\"#d8576b\"],[0.6666666666666666,\"#ed7953\"],[0.7777777777777778,\"#fb9f3a\"],[0.8888888888888888,\"#fdca26\"],[1.0,\"#f0f921\"]],\"sequentialminus\":[[0.0,\"#0d0887\"],[0.1111111111111111,\"#46039f\"],[0.2222222222222222,\"#7201a8\"],[0.3333333333333333,\"#9c179e\"],[0.4444444444444444,\"#bd3786\"],[0.5555555555555556,\"#d8576b\"],[0.6666666666666666,\"#ed7953\"],[0.7777777777777778,\"#fb9f3a\"],[0.8888888888888888,\"#fdca26\"],[1.0,\"#f0f921\"]],\"diverging\":[[0,\"#8e0152\"],[0.1,\"#c51b7d\"],[0.2,\"#de77ae\"],[0.3,\"#f1b6da\"],[0.4,\"#fde0ef\"],[0.5,\"#f7f7f7\"],[0.6,\"#e6f5d0\"],[0.7,\"#b8e186\"],[0.8,\"#7fbc41\"],[0.9,\"#4d9221\"],[1,\"#276419\"]]},\"xaxis\":{\"gridcolor\":\"white\",\"linecolor\":\"white\",\"ticks\":\"\",\"title\":{\"standoff\":15},\"zerolinecolor\":\"white\",\"automargin\":true,\"zerolinewidth\":2},\"yaxis\":{\"gridcolor\":\"white\",\"linecolor\":\"white\",\"ticks\":\"\",\"title\":{\"standoff\":15},\"zerolinecolor\":\"white\",\"automargin\":true,\"zerolinewidth\":2},\"scene\":{\"xaxis\":{\"backgroundcolor\":\"#E5ECF6\",\"gridcolor\":\"white\",\"linecolor\":\"white\",\"showbackground\":true,\"ticks\":\"\",\"zerolinecolor\":\"white\",\"gridwidth\":2},\"yaxis\":{\"backgroundcolor\":\"#E5ECF6\",\"gridcolor\":\"white\",\"linecolor\":\"white\",\"showbackground\":true,\"ticks\":\"\",\"zerolinecolor\":\"white\",\"gridwidth\":2},\"zaxis\":{\"backgroundcolor\":\"#E5ECF6\",\"gridcolor\":\"white\",\"linecolor\":\"white\",\"showbackground\":true,\"ticks\":\"\",\"zerolinecolor\":\"white\",\"gridwidth\":2}},\"shapedefaults\":{\"line\":{\"color\":\"#2a3f5f\"}},\"annotationdefaults\":{\"arrowcolor\":\"#2a3f5f\",\"arrowhead\":0,\"arrowwidth\":1},\"geo\":{\"bgcolor\":\"white\",\"landcolor\":\"#E5ECF6\",\"subunitcolor\":\"white\",\"showland\":true,\"showlakes\":true,\"lakecolor\":\"white\"},\"title\":{\"x\":0.05},\"mapbox\":{\"style\":\"light\"}}},\"xaxis\":{\"anchor\":\"y\",\"domain\":[0.0,1.0],\"title\":{\"text\":\"\"},\"range\":[5,2334],\"showticklabels\":false,\"showgrid\":false},\"yaxis\":{\"anchor\":\"x\",\"domain\":[0.0,1.0],\"title\":{\"text\":\"\"},\"categoryorder\":\"total ascending\",\"showgrid\":false},\"legend\":{\"tracegroupgap\":0},\"margin\":{\"t\":60},\"barmode\":\"relative\",\"updatemenus\":[{\"buttons\":[{\"args\":[null,{\"frame\":{\"duration\":500,\"redraw\":true},\"mode\":\"immediate\",\"fromcurrent\":true,\"transition\":{\"duration\":500,\"easing\":\"linear\"}}],\"label\":\"&#9654;\",\"method\":\"animate\"},{\"args\":[[null],{\"frame\":{\"duration\":0,\"redraw\":true},\"mode\":\"immediate\",\"fromcurrent\":true,\"transition\":{\"duration\":0,\"easing\":\"linear\"}}],\"label\":\"&#9724;\",\"method\":\"animate\"}],\"direction\":\"left\",\"pad\":{\"r\":10,\"t\":70},\"showactive\":false,\"type\":\"buttons\",\"x\":0.1,\"xanchor\":\"right\",\"y\":0,\"yanchor\":\"top\"}],\"sliders\":[{\"active\":0,\"currentvalue\":{\"prefix\":\"PERIODO=\"},\"len\":0.9,\"pad\":{\"b\":10,\"t\":60},\"steps\":[{\"args\":[[\"2014\"],{\"frame\":{\"duration\":0,\"redraw\":true},\"mode\":\"immediate\",\"fromcurrent\":true,\"transition\":{\"duration\":0,\"easing\":\"linear\"}}],\"label\":\"2014\",\"method\":\"animate\"},{\"args\":[[\"2015\"],{\"frame\":{\"duration\":0,\"redraw\":true},\"mode\":\"immediate\",\"fromcurrent\":true,\"transition\":{\"duration\":0,\"easing\":\"linear\"}}],\"label\":\"2015\",\"method\":\"animate\"},{\"args\":[[\"2016\"],{\"frame\":{\"duration\":0,\"redraw\":true},\"mode\":\"immediate\",\"fromcurrent\":true,\"transition\":{\"duration\":0,\"easing\":\"linear\"}}],\"label\":\"2016\",\"method\":\"animate\"},{\"args\":[[\"2017\"],{\"frame\":{\"duration\":0,\"redraw\":true},\"mode\":\"immediate\",\"fromcurrent\":true,\"transition\":{\"duration\":0,\"easing\":\"linear\"}}],\"label\":\"2017\",\"method\":\"animate\"},{\"args\":[[\"2018\"],{\"frame\":{\"duration\":0,\"redraw\":true},\"mode\":\"immediate\",\"fromcurrent\":true,\"transition\":{\"duration\":0,\"easing\":\"linear\"}}],\"label\":\"2018\",\"method\":\"animate\"},{\"args\":[[\"2019\"],{\"frame\":{\"duration\":0,\"redraw\":true},\"mode\":\"immediate\",\"fromcurrent\":true,\"transition\":{\"duration\":0,\"easing\":\"linear\"}}],\"label\":\"2019\",\"method\":\"animate\"},{\"args\":[[\"2020\"],{\"frame\":{\"duration\":0,\"redraw\":true},\"mode\":\"immediate\",\"fromcurrent\":true,\"transition\":{\"duration\":0,\"easing\":\"linear\"}}],\"label\":\"2020\",\"method\":\"animate\"},{\"args\":[[\"2021\"],{\"frame\":{\"duration\":0,\"redraw\":true},\"mode\":\"immediate\",\"fromcurrent\":true,\"transition\":{\"duration\":0,\"easing\":\"linear\"}}],\"label\":\"2021\",\"method\":\"animate\"}],\"x\":0.1,\"xanchor\":\"left\",\"y\":0,\"yanchor\":\"top\"}],\"showlegend\":false,\"height\":900,\"title\":{\"text\":\"Generaci\\u00f3n de residuos s\\u00f3lidos domiciliarios acumulados 2014-2021\\u003cbr\\u003e\\u003cspan style='color: blue;'\\u003eExcluye Lima con 18,084 KTM(Miles de Toneladas M\\u00e9tricas)\\u003c\\u002fspan\\u003e\",\"y\":0.97,\"x\":0.5,\"xanchor\":\"center\",\"yanchor\":\"top\"}},                        {\"responsive\": true}                    ).then(function(){\n",
       "                            Plotly.addFrames('017a5e7c-be13-40ed-9417-8060633eede2', [{\"data\":[{\"alignmentgroup\":\"True\",\"hovertemplate\":\"PERIODO=2014\\u003cbr\\u003e=%{x}\\u003cbr\\u003eDEPARTAMENTO=%{y}\\u003cextra\\u003e\\u003c\\u002fextra\\u003e\",\"legendgroup\":\"\",\"marker\":{\"color\":\"#636efa\",\"pattern\":{\"shape\":\"\"}},\"name\":\"\",\"offsetgroup\":\"\",\"orientation\":\"h\",\"showlegend\":false,\"textposition\":\"auto\",\"x\":[37,135,36,200,69,102,240,172,27,66,127,153,263,185,153,15,23,30,253,147,114,53,34,85],\"xaxis\":\"x\",\"y\":[\"AMAZONAS\",\"ANCASH\",\"APURIMAC\",\"AREQUIPA\",\"AYACUCHO\",\"CAJAMARCA\",\"CALLAO\",\"CUSCO\",\"HUANCAVELICA\",\"HUANUCO\",\"ICA\",\"JUNIN\",\"LA LIBERTAD\",\"LAMBAYEQUE\",\"LORETO\",\"MADRE DE DIOS\",\"MOQUEGUA\",\"PASCO\",\"PIURA\",\"PUNO\",\"SAN MARTIN\",\"TACNA\",\"TUMBES\",\"UCAYALI\"],\"yaxis\":\"y\",\"type\":\"bar\"}],\"name\":\"2014\"},{\"data\":[{\"alignmentgroup\":\"True\",\"hovertemplate\":\"PERIODO=2015\\u003cbr\\u003e=%{x}\\u003cbr\\u003eDEPARTAMENTO=%{y}\\u003cextra\\u003e\\u003c\\u002fextra\\u003e\",\"legendgroup\":\"\",\"marker\":{\"color\":\"#636efa\",\"pattern\":{\"shape\":\"\"}},\"name\":\"\",\"offsetgroup\":\"\",\"orientation\":\"h\",\"showlegend\":false,\"textposition\":\"auto\",\"x\":[72,289,72,404,151,206,481,322,54,127,254,321,540,395,303,32,46,55,536,274,219,106,71,173],\"xaxis\":\"x\",\"y\":[\"AMAZONAS\",\"ANCASH\",\"APURIMAC\",\"AREQUIPA\",\"AYACUCHO\",\"CAJAMARCA\",\"CALLAO\",\"CUSCO\",\"HUANCAVELICA\",\"HUANUCO\",\"ICA\",\"JUNIN\",\"LA LIBERTAD\",\"LAMBAYEQUE\",\"LORETO\",\"MADRE DE DIOS\",\"MOQUEGUA\",\"PASCO\",\"PIURA\",\"PUNO\",\"SAN MARTIN\",\"TACNA\",\"TUMBES\",\"UCAYALI\"],\"yaxis\":\"y\",\"type\":\"bar\"}],\"name\":\"2015\"},{\"data\":[{\"alignmentgroup\":\"True\",\"hovertemplate\":\"PERIODO=2016\\u003cbr\\u003e=%{x}\\u003cbr\\u003eDEPARTAMENTO=%{y}\\u003cextra\\u003e\\u003c\\u002fextra\\u003e\",\"legendgroup\":\"\",\"marker\":{\"color\":\"#636efa\",\"pattern\":{\"shape\":\"\"}},\"name\":\"\",\"offsetgroup\":\"\",\"orientation\":\"h\",\"showlegend\":false,\"textposition\":\"auto\",\"x\":[108,438,112,613,225,307,705,475,79,187,385,492,806,603,453,51,71,81,811,389,329,157,107,264],\"xaxis\":\"x\",\"y\":[\"AMAZONAS\",\"ANCASH\",\"APURIMAC\",\"AREQUIPA\",\"AYACUCHO\",\"CAJAMARCA\",\"CALLAO\",\"CUSCO\",\"HUANCAVELICA\",\"HUANUCO\",\"ICA\",\"JUNIN\",\"LA LIBERTAD\",\"LAMBAYEQUE\",\"LORETO\",\"MADRE DE DIOS\",\"MOQUEGUA\",\"PASCO\",\"PIURA\",\"PUNO\",\"SAN MARTIN\",\"TACNA\",\"TUMBES\",\"UCAYALI\"],\"yaxis\":\"y\",\"type\":\"bar\"}],\"name\":\"2016\"},{\"data\":[{\"alignmentgroup\":\"True\",\"hovertemplate\":\"PERIODO=2017\\u003cbr\\u003e=%{x}\\u003cbr\\u003eDEPARTAMENTO=%{y}\\u003cextra\\u003e\\u003c\\u002fextra\\u003e\",\"legendgroup\":\"\",\"marker\":{\"color\":\"#636efa\",\"pattern\":{\"shape\":\"\"}},\"name\":\"\",\"offsetgroup\":\"\",\"orientation\":\"h\",\"showlegend\":false,\"textposition\":\"auto\",\"x\":[144,584,152,824,307,407,933,632,104,247,517,670,1078,817,596,71,96,109,1090,512,439,209,144,355],\"xaxis\":\"x\",\"y\":[\"AMAZONAS\",\"ANCASH\",\"APURIMAC\",\"AREQUIPA\",\"AYACUCHO\",\"CAJAMARCA\",\"CALLAO\",\"CUSCO\",\"HUANCAVELICA\",\"HUANUCO\",\"ICA\",\"JUNIN\",\"LA LIBERTAD\",\"LAMBAYEQUE\",\"LORETO\",\"MADRE DE DIOS\",\"MOQUEGUA\",\"PASCO\",\"PIURA\",\"PUNO\",\"SAN MARTIN\",\"TACNA\",\"TUMBES\",\"UCAYALI\"],\"yaxis\":\"y\",\"type\":\"bar\"}],\"name\":\"2017\"},{\"data\":[{\"alignmentgroup\":\"True\",\"hovertemplate\":\"PERIODO=2018\\u003cbr\\u003e=%{x}\\u003cbr\\u003eDEPARTAMENTO=%{y}\\u003cextra\\u003e\\u003c\\u002fextra\\u003e\",\"legendgroup\":\"\",\"marker\":{\"color\":\"#636efa\",\"pattern\":{\"shape\":\"\"}},\"name\":\"\",\"offsetgroup\":\"\",\"orientation\":\"h\",\"showlegend\":false,\"textposition\":\"auto\",\"x\":[182,739,199,1076,395,513,1165,792,131,322,673,862,1377,1021,743,98,123,138,1399,634,566,260,181,456],\"xaxis\":\"x\",\"y\":[\"AMAZONAS\",\"ANCASH\",\"APURIMAC\",\"AREQUIPA\",\"AYACUCHO\",\"CAJAMARCA\",\"CALLAO\",\"CUSCO\",\"HUANCAVELICA\",\"HUANUCO\",\"ICA\",\"JUNIN\",\"LA LIBERTAD\",\"LAMBAYEQUE\",\"LORETO\",\"MADRE DE DIOS\",\"MOQUEGUA\",\"PASCO\",\"PIURA\",\"PUNO\",\"SAN MARTIN\",\"TACNA\",\"TUMBES\",\"UCAYALI\"],\"yaxis\":\"y\",\"type\":\"bar\"}],\"name\":\"2018\"},{\"data\":[{\"alignmentgroup\":\"True\",\"hovertemplate\":\"PERIODO=2019\\u003cbr\\u003e=%{x}\\u003cbr\\u003eDEPARTAMENTO=%{y}\\u003cextra\\u003e\\u003c\\u002fextra\\u003e\",\"legendgroup\":\"\",\"marker\":{\"color\":\"#636efa\",\"pattern\":{\"shape\":\"\"}},\"name\":\"\",\"offsetgroup\":\"\",\"orientation\":\"h\",\"showlegend\":false,\"textposition\":\"auto\",\"x\":[222,907,242,1308,482,615,1387,954,156,401,842,1052,1682,1250,910,126,152,164,1700,770,702,313,225,558],\"xaxis\":\"x\",\"y\":[\"AMAZONAS\",\"ANCASH\",\"APURIMAC\",\"AREQUIPA\",\"AYACUCHO\",\"CAJAMARCA\",\"CALLAO\",\"CUSCO\",\"HUANCAVELICA\",\"HUANUCO\",\"ICA\",\"JUNIN\",\"LA LIBERTAD\",\"LAMBAYEQUE\",\"LORETO\",\"MADRE DE DIOS\",\"MOQUEGUA\",\"PASCO\",\"PIURA\",\"PUNO\",\"SAN MARTIN\",\"TACNA\",\"TUMBES\",\"UCAYALI\"],\"yaxis\":\"y\",\"type\":\"bar\"}],\"name\":\"2019\"},{\"data\":[{\"alignmentgroup\":\"True\",\"hovertemplate\":\"PERIODO=2020\\u003cbr\\u003e=%{x}\\u003cbr\\u003eDEPARTAMENTO=%{y}\\u003cextra\\u003e\\u003c\\u002fextra\\u003e\",\"legendgroup\":\"\",\"marker\":{\"color\":\"#636efa\",\"pattern\":{\"shape\":\"\"}},\"name\":\"\",\"offsetgroup\":\"\",\"orientation\":\"h\",\"showlegend\":false,\"textposition\":\"auto\",\"x\":[262,1077,284,1544,570,716,1614,1118,181,481,1013,1242,1992,1481,1078,154,182,191,2009,906,840,367,270,663],\"xaxis\":\"x\",\"y\":[\"AMAZONAS\",\"ANCASH\",\"APURIMAC\",\"AREQUIPA\",\"AYACUCHO\",\"CAJAMARCA\",\"CALLAO\",\"CUSCO\",\"HUANCAVELICA\",\"HUANUCO\",\"ICA\",\"JUNIN\",\"LA LIBERTAD\",\"LAMBAYEQUE\",\"LORETO\",\"MADRE DE DIOS\",\"MOQUEGUA\",\"PASCO\",\"PIURA\",\"PUNO\",\"SAN MARTIN\",\"TACNA\",\"TUMBES\",\"UCAYALI\"],\"yaxis\":\"y\",\"type\":\"bar\"}],\"name\":\"2020\"},{\"data\":[{\"alignmentgroup\":\"True\",\"hovertemplate\":\"PERIODO=2021\\u003cbr\\u003e=%{x}\\u003cbr\\u003eDEPARTAMENTO=%{y}\\u003cextra\\u003e\\u003c\\u002fextra\\u003e\",\"legendgroup\":\"\",\"marker\":{\"color\":\"#636efa\",\"pattern\":{\"shape\":\"\"}},\"name\":\"\",\"offsetgroup\":\"\",\"orientation\":\"h\",\"showlegend\":false,\"textposition\":\"auto\",\"x\":[297,1246,328,1793,658,826,1889,1283,210,557,1187,1439,2310,1708,1244,185,217,217,2324,1060,984,424,318,772],\"xaxis\":\"x\",\"y\":[\"AMAZONAS\",\"ANCASH\",\"APURIMAC\",\"AREQUIPA\",\"AYACUCHO\",\"CAJAMARCA\",\"CALLAO\",\"CUSCO\",\"HUANCAVELICA\",\"HUANUCO\",\"ICA\",\"JUNIN\",\"LA LIBERTAD\",\"LAMBAYEQUE\",\"LORETO\",\"MADRE DE DIOS\",\"MOQUEGUA\",\"PASCO\",\"PIURA\",\"PUNO\",\"SAN MARTIN\",\"TACNA\",\"TUMBES\",\"UCAYALI\"],\"yaxis\":\"y\",\"type\":\"bar\"}],\"name\":\"2021\"}]);\n",
       "                        }).then(function(){\n",
       "                            \n",
       "var gd = document.getElementById('017a5e7c-be13-40ed-9417-8060633eede2');\n",
       "var x = new MutationObserver(function (mutations, observer) {{\n",
       "        var display = window.getComputedStyle(gd).display;\n",
       "        if (!display || display === 'none') {{\n",
       "            console.log([gd, 'removed!']);\n",
       "            Plotly.purge(gd);\n",
       "            observer.disconnect();\n",
       "        }}\n",
       "}});\n",
       "\n",
       "// Listen for the removal of the full notebook cells\n",
       "var notebookContainer = gd.closest('#notebook-container');\n",
       "if (notebookContainer) {{\n",
       "    x.observe(notebookContainer, {childList: true});\n",
       "}}\n",
       "\n",
       "// Listen for the clearing of the current output cell\n",
       "var outputEl = gd.closest('.output');\n",
       "if (outputEl) {{\n",
       "    x.observe(outputEl, {childList: true});\n",
       "}}\n",
       "\n",
       "                        })                };                });            </script>        </div>"
      ]
     },
     "metadata": {},
     "output_type": "display_data"
    }
   ],
   "source": [
    "fig = px.bar(df3, \n",
    "             x=\"KQRESIDUOS_DOM_ACUM\", \n",
    "             y=\"DEPARTAMENTO\", \n",
    "           #  color=\"DEPARTAMENTO\", \n",
    "             animation_frame=\"PERIODO\",\n",
    "             labels={'KQRESIDUOS_DOM_ACUM': ''},\n",
    "             orientation='h',\n",
    "             range_x=[df3['KQRESIDUOS_DOM_ACUM'].min() - 10, df3['KQRESIDUOS_DOM_ACUM'].max() + 10 ]\n",
    "             )\n",
    "\n",
    "fig.update_layout(showlegend=False)\n",
    "fig.update_traces(marker_color='blue',texttemplate='%{x:,.0f}KTM', textposition='outside', selector=dict(type='bar'))\n",
    "fig.update_layout(yaxis=dict(categoryorder='total ascending', title_text=\"\"),\n",
    "                  xaxis=dict(showticklabels=False))\n",
    "fig.update_layout(height=900) \n",
    "fig.update_layout(\n",
    "    xaxis=dict(\n",
    "        showgrid=False, \n",
    "        showticklabels=False\n",
    "    ),\n",
    "    yaxis=dict(\n",
    "        showgrid=False,  \n",
    "        categoryorder='total ascending', \n",
    "        title_text=\"\"\n",
    "    ),\n",
    "    title={\n",
    "        'text': \"Generación de residuos sólidos domiciliarios acumulados 2014-2021<br><span style='color: blue;'>Excluye Lima con 18,084 KTM(Miles de Toneladas Métricas)</span>\",\n",
    "        'y':0.97,\n",
    "        'x':0.5,\n",
    "        'xanchor': 'center',\n",
    "        'yanchor': 'top'\n",
    "    }\n",
    ")\n",
    "fig.show()"
   ]
  },
  {
   "cell_type": "code",
   "execution_count": null,
   "id": "c9274180",
   "metadata": {},
   "outputs": [],
   "source": []
  }
 ],
 "metadata": {
  "kernelspec": {
   "display_name": "Python 3 (ipykernel)",
   "language": "python",
   "name": "python3"
  },
  "language_info": {
   "codemirror_mode": {
    "name": "ipython",
    "version": 3
   },
   "file_extension": ".py",
   "mimetype": "text/x-python",
   "name": "python",
   "nbconvert_exporter": "python",
   "pygments_lexer": "ipython3",
   "version": "3.11.4"
  }
 },
 "nbformat": 4,
 "nbformat_minor": 5
}
